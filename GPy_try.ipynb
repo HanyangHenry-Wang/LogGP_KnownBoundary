{
 "cells": [
  {
   "cell_type": "code",
   "execution_count": 1,
   "metadata": {},
   "outputs": [],
   "source": [
    "import numpy as np\n",
    "import matplotlib.pyplot as plt\n",
    "import GPy\n",
    "import scipy.linalg as sp_linalg"
   ]
  },
  {
   "attachments": {},
   "cell_type": "markdown",
   "metadata": {},
   "source": [
    "# warped"
   ]
  },
  {
   "cell_type": "code",
   "execution_count": 17,
   "metadata": {},
   "outputs": [],
   "source": [
    "X = np.random.randn(200, 1)\n",
    "Y = np.sin(X) + np.random.randn(200, 1)*0.05\n",
    "\n",
    "m = GPy.models.WarpedGP(X, Y)\n"
   ]
  },
  {
   "cell_type": "code",
   "execution_count": 18,
   "metadata": {},
   "outputs": [
    {
     "data": {
      "text/html": [
       "<style type=\"text/css\">\n",
       ".tg  {padding:2px 3px;word-break:normal;border-collapse:collapse;border-spacing:0;border-color:#DCDCDC;margin:0px auto;width:100%;}\n",
       ".tg td{font-family:\"Courier New\", Courier, monospace !important;font-weight:bold;color:#444;background-color:#F7FDFA;border-style:solid;border-width:1px;overflow:hidden;word-break:normal;border-color:#DCDCDC;}\n",
       ".tg th{font-family:\"Courier New\", Courier, monospace !important;font-weight:normal;color:#fff;background-color:#26ADE4;border-style:solid;border-width:1px;overflow:hidden;word-break:normal;border-color:#DCDCDC;}\n",
       ".tg .tg-left{font-family:\"Courier New\", Courier, monospace !important;font-weight:normal;text-align:left;}\n",
       ".tg .tg-right{font-family:\"Courier New\", Courier, monospace !important;font-weight:normal;text-align:right;}\n",
       "</style>\n",
       "<table class=\"tg\">\n",
       "\n",
       "<tr>\n",
       "  <th><b>index</b></th>\n",
       "  <th><b>gp.warp_tanh.psi</b></th>\n",
       "  <th><b>constraints</b></th><th><b>priors</b></th>\n",
       "</tr>\n",
       "<tr><td class=tg-left>  [0 0]</td><td class=tg-right>      1.00000000</td><td class=tg-left>    +ve    </td><td class=tg-left>      </td></tr>\n",
       "<tr><td class=tg-left>  [0 1]</td><td class=tg-right>      1.00000000</td><td class=tg-left>    +ve    </td><td class=tg-left>      </td></tr>\n",
       "<tr><td class=tg-left>  [0 2]</td><td class=tg-right>      1.00000000</td><td class=tg-left>           </td><td class=tg-left>      </td></tr>\n",
       "<tr><td class=tg-left>  [1 0]</td><td class=tg-right>      1.00000000</td><td class=tg-left>    +ve    </td><td class=tg-left>      </td></tr>\n",
       "<tr><td class=tg-left>  [1 1]</td><td class=tg-right>      1.00000000</td><td class=tg-left>    +ve    </td><td class=tg-left>      </td></tr>\n",
       "<tr><td class=tg-left>  [1 2]</td><td class=tg-right>      1.00000000</td><td class=tg-left>           </td><td class=tg-left>      </td></tr>\n",
       "<tr><td class=tg-left>  [2 0]</td><td class=tg-right>      1.00000000</td><td class=tg-left>    +ve    </td><td class=tg-left>      </td></tr>\n",
       "<tr><td class=tg-left>  [2 1]</td><td class=tg-right>      1.00000000</td><td class=tg-left>    +ve    </td><td class=tg-left>      </td></tr>\n",
       "<tr><td class=tg-left>  [2 2]</td><td class=tg-right>      1.00000000</td><td class=tg-left>           </td><td class=tg-left>      </td></tr>"
      ],
      "text/plain": [
       "\u001b[1mgp.warp_tanh.psi\u001b[0;0m:\n",
       "Param([[1., 1., 1.],\n",
       "       [1., 1., 1.],\n",
       "       [1., 1., 1.]])"
      ]
     },
     "execution_count": 18,
     "metadata": {},
     "output_type": "execute_result"
    }
   ],
   "source": [
    "m.warp_tanh.psi"
   ]
  },
  {
   "cell_type": "code",
   "execution_count": 19,
   "metadata": {},
   "outputs": [
    {
     "data": {
      "text/html": [
       "<style type=\"text/css\">\n",
       ".pd{\n",
       "    font-family: \"Courier New\", Courier, monospace !important;\n",
       "    width: 100%;\n",
       "    padding: 3px;\n",
       "}\n",
       "</style>\n",
       "\n",
       "<p class=pd>\n",
       "<b>Model</b>: gp<br>\n",
       "<b>Objective</b>: -298.969004654941<br>\n",
       "<b>Number of Parameters</b>: 13<br>\n",
       "<b>Number of Optimization Parameters</b>: 13<br>\n",
       "<b>Updates</b>: True<br>\n",
       "</p>\n",
       "<style type=\"text/css\">\n",
       ".tg  {font-family:\"Courier New\", Courier, monospace !important;padding:2px 3px;word-break:normal;border-collapse:collapse;border-spacing:0;border-color:#DCDCDC;margin:0px auto;width:100%;}\n",
       ".tg td{font-family:\"Courier New\", Courier, monospace !important;font-weight:bold;color:#444;background-color:#F7FDFA;border-style:solid;border-width:1px;overflow:hidden;word-break:normal;border-color:#DCDCDC;}\n",
       ".tg th{font-family:\"Courier New\", Courier, monospace !important;font-weight:normal;color:#fff;background-color:#26ADE4;border-style:solid;border-width:1px;overflow:hidden;word-break:normal;border-color:#DCDCDC;}\n",
       ".tg .tg-left{font-family:\"Courier New\", Courier, monospace !important;font-weight:normal;text-align:left;}\n",
       ".tg .tg-center{font-family:\"Courier New\", Courier, monospace !important;font-weight:normal;text-align:center;}\n",
       ".tg .tg-right{font-family:\"Courier New\", Courier, monospace !important;font-weight:normal;text-align:right;}\n",
       "</style>\n",
       "<table class=\"tg\"><tr><th><b>  gp.                    </b></th><th><b>               value</b></th><th><b>constraints</b></th><th><b>priors</b></th></tr>\n",
       "<tr><td class=tg-left>  rbf.variance           </td><td class=tg-right>  2.4047631459601546</td><td class=tg-center>    +ve    </td><td class=tg-center>      </td></tr>\n",
       "<tr><td class=tg-left>  rbf.lengthscale        </td><td class=tg-right>  2.3163682267638417</td><td class=tg-center>    +ve    </td><td class=tg-center>      </td></tr>\n",
       "<tr><td class=tg-left>  Gaussian_noise.variance</td><td class=tg-right>0.002860992520333858</td><td class=tg-center>    +ve    </td><td class=tg-center>      </td></tr>\n",
       "<tr><td class=tg-left>  warp_tanh.psi          </td><td class=tg-right>              (3, 3)</td><td class=tg-center>   {+ve}   </td><td class=tg-center>      </td></tr>\n",
       "<tr><td class=tg-left>  warp_tanh.d            </td><td class=tg-right>  1.0340319032691752</td><td class=tg-center>    +ve    </td><td class=tg-center>      </td></tr>\n",
       "</table>"
      ],
      "text/plain": [
       "<GPy.models.warped_gp.WarpedGP at 0x7fa6442317f0>"
      ]
     },
     "execution_count": 19,
     "metadata": {},
     "output_type": "execute_result"
    }
   ],
   "source": [
    "m.optimize()\n",
    "\n",
    "m"
   ]
  },
  {
   "cell_type": "code",
   "execution_count": 20,
   "metadata": {},
   "outputs": [
    {
     "data": {
      "text/plain": [
       "{'dataplot': [<matplotlib.collections.PathCollection at 0x7fa6442f3400>],\n",
       " 'gpmean': [[<matplotlib.lines.Line2D at 0x7fa64420a8e0>]],\n",
       " 'gpconfidence': [<matplotlib.collections.PolyCollection at 0x7fa64420aaf0>]}"
      ]
     },
     "execution_count": 20,
     "metadata": {},
     "output_type": "execute_result"
    },
    {
     "data": {
      "image/png": "[encoded data removed]",
      "text/plain": [
       "<Figure size 640x480 with 1 Axes>"
      ]
     },
     "metadata": {},
     "output_type": "display_data"
    }
   ],
   "source": [
    "m.plot()"
   ]
  },
  {
   "attachments": {},
   "cell_type": "markdown",
   "metadata": {},
   "source": [
    "# draft"
   ]
  },
  {
   "cell_type": "code",
   "execution_count": 6,
   "metadata": {},
   "outputs": [
    {
     "data": {
      "text/plain": [
       "<matplotlib.collections.PathCollection at 0x7f6592ec6f10>"
      ]
     },
     "execution_count": 6,
     "metadata": {},
     "output_type": "execute_result"
    },
    {
     "data": {
      "image/png": "[encoded data removed]",
      "text/plain": [
       "<Figure size 640x480 with 1 Axes>"
      ]
     },
     "metadata": {},
     "output_type": "display_data"
    }
   ],
   "source": [
    "X_init = np.array([0.1,0.2,0.5,0.8])\n",
    "Y_init = np.array([-0.2,0.1,0.8,0.2])\n",
    "\n",
    "plt.scatter(X_init,Y_init)"
   ]
  },
  {
   "cell_type": "code",
   "execution_count": 7,
   "metadata": {},
   "outputs": [
    {
     "data": {
      "text/plain": [
       "array([0])"
      ]
     },
     "execution_count": 7,
     "metadata": {},
     "output_type": "execute_result"
    }
   ],
   "source": [
    "lengthscale_gp = 0.2\n",
    "variance_gp = 1**2\n",
    "\n",
    "kernel = GPy.kern.RBF(input_dim=1,lengthscale= lengthscale_gp,variance=variance_gp)  #np.sqrt(res[0])\n",
    "m = GPy.models.GPRegression(X_init.reshape(-1,1), Y_init.reshape(-1,1),kernel)\n",
    "m.Gaussian_noise.variance.fix(10**(-5))"
   ]
  },
  {
   "cell_type": "code",
   "execution_count": 8,
   "metadata": {},
   "outputs": [
    {
     "data": {
      "text/plain": [
       "<paramz.optimization.optimization.opt_lbfgsb at 0x7f6592e52fa0>"
      ]
     },
     "execution_count": 8,
     "metadata": {},
     "output_type": "execute_result"
    }
   ],
   "source": [
    "m.optimize()"
   ]
  },
  {
   "cell_type": "code",
   "execution_count": 5,
   "metadata": {},
   "outputs": [
    {
     "data": {
      "text/html": [
       "<style type=\"text/css\">\n",
       ".pd{\n",
       "    font-family: \"Courier New\", Courier, monospace !important;\n",
       "    width: 100%;\n",
       "    padding: 3px;\n",
       "}\n",
       "</style>\n",
       "\n",
       "<p class=pd>\n",
       "<b>Model</b>: GP regression<br>\n",
       "<b>Objective</b>: 1.3176664223926529<br>\n",
       "<b>Number of Parameters</b>: 3<br>\n",
       "<b>Number of Optimization Parameters</b>: 2<br>\n",
       "<b>Updates</b>: True<br>\n",
       "</p>\n",
       "<style type=\"text/css\">\n",
       ".tg  {font-family:\"Courier New\", Courier, monospace !important;padding:2px 3px;word-break:normal;border-collapse:collapse;border-spacing:0;border-color:#DCDCDC;margin:0px auto;width:100%;}\n",
       ".tg td{font-family:\"Courier New\", Courier, monospace !important;font-weight:bold;color:#444;background-color:#F7FDFA;border-style:solid;border-width:1px;overflow:hidden;word-break:normal;border-color:#DCDCDC;}\n",
       ".tg th{font-family:\"Courier New\", Courier, monospace !important;font-weight:normal;color:#fff;background-color:#26ADE4;border-style:solid;border-width:1px;overflow:hidden;word-break:normal;border-color:#DCDCDC;}\n",
       ".tg .tg-left{font-family:\"Courier New\", Courier, monospace !important;font-weight:normal;text-align:left;}\n",
       ".tg .tg-center{font-family:\"Courier New\", Courier, monospace !important;font-weight:normal;text-align:center;}\n",
       ".tg .tg-right{font-family:\"Courier New\", Courier, monospace !important;font-weight:normal;text-align:right;}\n",
       "</style>\n",
       "<table class=\"tg\"><tr><th><b>  GP_regression.         </b></th><th><b>              value</b></th><th><b>constraints</b></th><th><b>priors</b></th></tr>\n",
       "<tr><td class=tg-left>  rbf.variance           </td><td class=tg-right>0.25788940516732417</td><td class=tg-center>    +ve    </td><td class=tg-center>      </td></tr>\n",
       "<tr><td class=tg-left>  rbf.lengthscale        </td><td class=tg-right>0.26916835763284064</td><td class=tg-center>    +ve    </td><td class=tg-center>      </td></tr>\n",
       "<tr><td class=tg-left>  Gaussian_noise.variance</td><td class=tg-right>              1e-05</td><td class=tg-center> +ve fixed </td><td class=tg-center>      </td></tr>\n",
       "</table>"
      ],
      "text/plain": [
       "<GPy.models.gp_regression.GPRegression at 0x7f2ab35f3370>"
      ]
     },
     "execution_count": 5,
     "metadata": {},
     "output_type": "execute_result"
    }
   ],
   "source": [
    "m"
   ]
  },
  {
   "cell_type": "code",
   "execution_count": 6,
   "metadata": {},
   "outputs": [
    {
     "name": "stdout",
     "output_type": "stream",
     "text": [
      "Optimization restart 1/10, f = 335.40603410289475\n",
      "Optimization restart 2/10, f = 335.40608848569894\n",
      "Optimization restart 3/10, f = 335.40603365622627\n",
      "Optimization restart 4/10, f = 335.4060336562262\n",
      "Optimization restart 5/10, f = 335.4060336562262\n",
      "Optimization restart 6/10, f = 335.4060336562262\n",
      "Optimization restart 7/10, f = 335.40603428276745\n",
      "Optimization restart 8/10, f = 335.40603365622735\n",
      "Optimization restart 9/10, f = 335.40603365622786\n",
      "Optimization restart 10/10, f = 335.40603365622684\n"
     ]
    },
    {
     "data": {
      "text/plain": [
       "[<paramz.optimization.optimization.opt_lbfgsb at 0x7f2ab37ad940>,\n",
       " <paramz.optimization.optimization.opt_lbfgsb at 0x7f2ab360ecd0>,\n",
       " <paramz.optimization.optimization.opt_lbfgsb at 0x7f2ab367ea90>,\n",
       " <paramz.optimization.optimization.opt_lbfgsb at 0x7f2ab367e9a0>,\n",
       " <paramz.optimization.optimization.opt_lbfgsb at 0x7f2ab35a1f40>,\n",
       " <paramz.optimization.optimization.opt_lbfgsb at 0x7f2ab365c040>,\n",
       " <paramz.optimization.optimization.opt_lbfgsb at 0x7f2ab365c070>,\n",
       " <paramz.optimization.optimization.opt_lbfgsb at 0x7f2ab367db80>,\n",
       " <paramz.optimization.optimization.opt_lbfgsb at 0x7f2ab365c0a0>,\n",
       " <paramz.optimization.optimization.opt_lbfgsb at 0x7f2ab35f37c0>]"
      ]
     },
     "execution_count": 6,
     "metadata": {},
     "output_type": "execute_result"
    }
   ],
   "source": [
    "X = np.random.randn(200, 1)\n",
    "Y = np.sin(X) + np.random.randn(200, 1)\n",
    "\n",
    "kernel = GPy.kern.RBF(input_dim=1,lengthscale= lengthscale_gp,variance=variance_gp)  #np.sqrt(res[0])\n",
    "m = GPy.models.GPRegression(X.reshape(-1,1), Y.reshape(-1,1),kernel)\n",
    "m.Gaussian_noise.variance.fix(10**(-5))\n",
    "\n",
    "m.optimize_restarts(10)"
   ]
  },
  {
   "cell_type": "code",
   "execution_count": 155,
   "metadata": {},
   "outputs": [],
   "source": [
    "from botorch.test_functions import Ackley,Levy,Beale,Branin,Hartmann,Rosenbrock,Powell,SixHumpCamel\n",
    "from known_boundary.utlis import Trans_function, get_initial_points,transform\n",
    "import torch\n",
    "from botorch.utils.transforms import unnormalize,normalize\n",
    "device = torch.device(\"cuda\" if torch.cuda.is_available() else \"cpu\")\n",
    "dtype = torch.double\n",
    "\n",
    "\n",
    "fun = Ackley(dim=5)\n",
    "dim = fun.dim\n",
    "bounds = fun.bounds\n",
    "standard_bounds=np.array([0.,1.]*dim).reshape(-1,2)\n",
    "\n",
    "X_BO = get_initial_points(bounds, 50,device,dtype,seed=0)\n",
    "Y_BO = fun(X_BO)\n",
    "\n",
    "Y_BO = (Y_BO-torch.mean(Y_BO))/torch.std(Y_BO)\n",
    "X_BO = normalize(X_BO, bounds)\n",
    "                "
   ]
  },
  {
   "cell_type": "code",
   "execution_count": 156,
   "metadata": {},
   "outputs": [
    {
     "name": "stdout",
     "output_type": "stream",
     "text": [
      "Optimization restart 1/10, f = 67.25414673609251\n",
      "Optimization restart 2/10, f = 67.25414673617747\n",
      "Optimization restart 3/10, f = 67.25414673615121\n",
      "Optimization restart 4/10, f = 67.25414673729522\n",
      "Optimization restart 5/10, f = 67.25414673614802\n",
      "Optimization restart 6/10, f = 67.25414673609208\n",
      "Optimization restart 7/10, f = 67.25414673609201\n",
      "Optimization restart 8/10, f = 67.25414673624424\n",
      "Optimization restart 9/10, f = 67.254146736092\n",
      "Optimization restart 10/10, f = 67.25414673679447\n"
     ]
    },
    {
     "data": {
      "text/plain": [
       "[<paramz.optimization.optimization.opt_lbfgsb at 0x7f2a67710ee0>,\n",
       " <paramz.optimization.optimization.opt_lbfgsb at 0x7f2a6770ba90>,\n",
       " <paramz.optimization.optimization.opt_lbfgsb at 0x7f2a7f39adc0>,\n",
       " <paramz.optimization.optimization.opt_lbfgsb at 0x7f2a7c0f06d0>,\n",
       " <paramz.optimization.optimization.opt_lbfgsb at 0x7f2a6770b880>,\n",
       " <paramz.optimization.optimization.opt_lbfgsb at 0x7f2a6770b940>,\n",
       " <paramz.optimization.optimization.opt_lbfgsb at 0x7f2a80156100>,\n",
       " <paramz.optimization.optimization.opt_lbfgsb at 0x7f2a7c0f0d90>,\n",
       " <paramz.optimization.optimization.opt_lbfgsb at 0x7f2a7c0f0b50>,\n",
       " <paramz.optimization.optimization.opt_lbfgsb at 0x7f2a6770ba30>]"
      ]
     },
     "execution_count": 156,
     "metadata": {},
     "output_type": "execute_result"
    }
   ],
   "source": [
    "kernel = GPy.kern.RBF(input_dim=5)  #np.sqrt(res[0])\n",
    "m = GPy.models.GPRegression(X_BO.numpy(), Y_BO.numpy().reshape(-1,1),kernel)\n",
    "m.Gaussian_noise.variance.fix(10**(-5))\n",
    "\n",
    "m.optimize_restarts(10)"
   ]
  },
  {
   "cell_type": "code",
   "execution_count": 157,
   "metadata": {},
   "outputs": [
    {
     "data": {
      "text/html": [
       "<style type=\"text/css\">\n",
       ".pd{\n",
       "    font-family: \"Courier New\", Courier, monospace !important;\n",
       "    width: 100%;\n",
       "    padding: 3px;\n",
       "}\n",
       "</style>\n",
       "\n",
       "<p class=pd>\n",
       "<b>Model</b>: GP regression<br>\n",
       "<b>Objective</b>: 67.254146736092<br>\n",
       "<b>Number of Parameters</b>: 3<br>\n",
       "<b>Number of Optimization Parameters</b>: 2<br>\n",
       "<b>Updates</b>: True<br>\n",
       "</p>\n",
       "<style type=\"text/css\">\n",
       ".tg  {font-family:\"Courier New\", Courier, monospace !important;padding:2px 3px;word-break:normal;border-collapse:collapse;border-spacing:0;border-color:#DCDCDC;margin:0px auto;width:100%;}\n",
       ".tg td{font-family:\"Courier New\", Courier, monospace !important;font-weight:bold;color:#444;background-color:#F7FDFA;border-style:solid;border-width:1px;overflow:hidden;word-break:normal;border-color:#DCDCDC;}\n",
       ".tg th{font-family:\"Courier New\", Courier, monospace !important;font-weight:normal;color:#fff;background-color:#26ADE4;border-style:solid;border-width:1px;overflow:hidden;word-break:normal;border-color:#DCDCDC;}\n",
       ".tg .tg-left{font-family:\"Courier New\", Courier, monospace !important;font-weight:normal;text-align:left;}\n",
       ".tg .tg-center{font-family:\"Courier New\", Courier, monospace !important;font-weight:normal;text-align:center;}\n",
       ".tg .tg-right{font-family:\"Courier New\", Courier, monospace !important;font-weight:normal;text-align:right;}\n",
       "</style>\n",
       "<table class=\"tg\"><tr><th><b>  GP_regression.         </b></th><th><b>             value</b></th><th><b>constraints</b></th><th><b>priors</b></th></tr>\n",
       "<tr><td class=tg-left>  rbf.variance           </td><td class=tg-right>0.9322379880279829</td><td class=tg-center>    +ve    </td><td class=tg-center>      </td></tr>\n",
       "<tr><td class=tg-left>  rbf.lengthscale        </td><td class=tg-right>0.2352587215216329</td><td class=tg-center>    +ve    </td><td class=tg-center>      </td></tr>\n",
       "<tr><td class=tg-left>  Gaussian_noise.variance</td><td class=tg-right>             1e-05</td><td class=tg-center> +ve fixed </td><td class=tg-center>      </td></tr>\n",
       "</table>"
      ],
      "text/plain": [
       "<GPy.models.gp_regression.GPRegression at 0x7f2a67710fd0>"
      ]
     },
     "execution_count": 157,
     "metadata": {},
     "output_type": "execute_result"
    }
   ],
   "source": [
    "m"
   ]
  },
  {
   "cell_type": "code",
   "execution_count": 158,
   "metadata": {},
   "outputs": [
    {
     "name": "stdout",
     "output_type": "stream",
     "text": [
      "lengthscale is:  0.23525858239218897\n",
      "variance is:  0.9322465076058449\n"
     ]
    }
   ],
   "source": [
    "from known_boundary.GP import optimise\n",
    "\n",
    "res = optimise(X_BO.numpy(), Y_BO.numpy().reshape(-1,1))\n",
    "print('lengthscale is: ',np.sqrt(res[0])) \n",
    "print('variance is: ',res[1])\n"
   ]
  },
  {
   "cell_type": "code",
   "execution_count": 127,
   "metadata": {},
   "outputs": [
    {
     "data": {
      "text/html": [
       "<style type=\"text/css\">\n",
       ".pd{\n",
       "    font-family: \"Courier New\", Courier, monospace !important;\n",
       "    width: 100%;\n",
       "    padding: 3px;\n",
       "}\n",
       "</style>\n",
       "\n",
       "<p class=pd>\n",
       "<b>Model</b>: GP regression<br>\n",
       "<b>Objective</b>: 3.286813830449693<br>\n",
       "<b>Number of Parameters</b>: 3<br>\n",
       "<b>Number of Optimization Parameters</b>: 2<br>\n",
       "<b>Updates</b>: True<br>\n",
       "</p>\n",
       "<style type=\"text/css\">\n",
       ".tg  {font-family:\"Courier New\", Courier, monospace !important;padding:2px 3px;word-break:normal;border-collapse:collapse;border-spacing:0;border-color:#DCDCDC;margin:0px auto;width:100%;}\n",
       ".tg td{font-family:\"Courier New\", Courier, monospace !important;font-weight:bold;color:#444;background-color:#F7FDFA;border-style:solid;border-width:1px;overflow:hidden;word-break:normal;border-color:#DCDCDC;}\n",
       ".tg th{font-family:\"Courier New\", Courier, monospace !important;font-weight:normal;color:#fff;background-color:#26ADE4;border-style:solid;border-width:1px;overflow:hidden;word-break:normal;border-color:#DCDCDC;}\n",
       ".tg .tg-left{font-family:\"Courier New\", Courier, monospace !important;font-weight:normal;text-align:left;}\n",
       ".tg .tg-center{font-family:\"Courier New\", Courier, monospace !important;font-weight:normal;text-align:center;}\n",
       ".tg .tg-right{font-family:\"Courier New\", Courier, monospace !important;font-weight:normal;text-align:right;}\n",
       "</style>\n",
       "<table class=\"tg\"><tr><th><b>  GP_regression.         </b></th><th><b>value</b></th><th><b>constraints</b></th><th><b>priors</b></th></tr>\n",
       "<tr><td class=tg-left>  rbf.variance           </td><td class=tg-right>  9.0</td><td class=tg-center>    +ve    </td><td class=tg-center>      </td></tr>\n",
       "<tr><td class=tg-left>  rbf.lengthscale        </td><td class=tg-right>  2.0</td><td class=tg-center>    +ve    </td><td class=tg-center>      </td></tr>\n",
       "<tr><td class=tg-left>  Gaussian_noise.variance</td><td class=tg-right>1e-05</td><td class=tg-center> +ve fixed </td><td class=tg-center>      </td></tr>\n",
       "</table>"
      ],
      "text/plain": [
       "<GPy.models.gp_regression.GPRegression at 0x7f2a7c101af0>"
      ]
     },
     "execution_count": 127,
     "metadata": {},
     "output_type": "execute_result"
    }
   ],
   "source": [
    "X = np.array([0,1]).reshape(-1,1)\n",
    "Y = np.array([0.2,0.3]).reshape(-1,1)\n",
    "kernel = GPy.kern.RBF(input_dim=1,lengthscale=2,variance=3**2) \n",
    "m = GPy.models.GPRegression(X, Y,kernel)\n",
    "m.Gaussian_noise.variance.fix(10**(-5))\n",
    "\n",
    "m"
   ]
  },
  {
   "cell_type": "code",
   "execution_count": 15,
   "metadata": {},
   "outputs": [
    {
     "data": {
      "text/plain": [
       "<paramz.optimization.optimization.opt_lbfgsb at 0x7f6592e52340>"
      ]
     },
     "execution_count": 15,
     "metadata": {},
     "output_type": "execute_result"
    }
   ],
   "source": [
    "m.optimize()"
   ]
  },
  {
   "cell_type": "code",
   "execution_count": 70,
   "metadata": {},
   "outputs": [
    {
     "data": {
      "text/plain": [
       "array([[1.       , 0.8824969],\n",
       "       [0.8824969, 1.       ]])"
      ]
     },
     "execution_count": 70,
     "metadata": {},
     "output_type": "execute_result"
    }
   ],
   "source": [
    "kernel.dK_dvariance(X,X)"
   ]
  },
  {
   "cell_type": "code",
   "execution_count": 72,
   "metadata": {},
   "outputs": [
    {
     "data": {
      "text/plain": [
       "array([[9.        , 7.94247212],\n",
       "       [7.94247212, 9.        ]])"
      ]
     },
     "execution_count": 72,
     "metadata": {},
     "output_type": "execute_result"
    }
   ],
   "source": [
    "kernel._clean_K(X,X)"
   ]
  },
  {
   "cell_type": "code",
   "execution_count": 45,
   "metadata": {},
   "outputs": [
    {
     "data": {
      "text/plain": [
       "7.942472123261359"
      ]
     },
     "execution_count": 45,
     "metadata": {},
     "output_type": "execute_result"
    }
   ],
   "source": [
    "9*np.exp(-0.5*1/4)"
   ]
  },
  {
   "attachments": {},
   "cell_type": "markdown",
   "metadata": {},
   "source": [
    "# Example"
   ]
  },
  {
   "cell_type": "code",
   "execution_count": 93,
   "metadata": {},
   "outputs": [
    {
     "name": "stdout",
     "output_type": "stream",
     "text": [
      "Optimized Parameters: [2. 3.]\n",
      "Minimum Value: 0.0\n"
     ]
    }
   ],
   "source": [
    "import numpy as np\n",
    "from scipy.optimize import fmin_l_bfgs_b\n",
    "\n",
    "# Define the objective function and its gradient\n",
    "def objective_function(x):\n",
    "    # Example objective function: f(x) = (x[0] - 2)**2 + (x[1] - 3)**2\n",
    "    return (x[0] - 2)**2 + (x[1] - 3)**2\n",
    "\n",
    "def gradient(x):\n",
    "    # Gradient of the objective function\n",
    "    dfdx0 = 2 * (x[0] - 2)\n",
    "    dfdx1 = 2 * (x[1] - 3)\n",
    "    return np.array([dfdx0, dfdx1])\n",
    "\n",
    "# Define bounds for each parameter\n",
    "# In this example, we constrain x[0] to be between 1.0 and 3.0,\n",
    "# and x[1] to be between 2.0 and 4.0\n",
    "bounds = [(1.0, 3.0), (2.0, 4.0)]\n",
    "\n",
    "# Initial guess for the optimization\n",
    "initial_guess = np.array([0.0, 0.0])\n",
    "\n",
    "# Call fmin_l_bfgs_b with bounds to perform the optimization\n",
    "result = fmin_l_bfgs_b(objective_function, initial_guess, fprime=gradient, bounds=bounds)\n",
    "\n",
    "# Extract the optimized parameters and the minimum value\n",
    "optimized_params = result[0]\n",
    "min_value = result[1]\n",
    "\n",
    "# Print the results\n",
    "print(\"Optimized Parameters:\", optimized_params)\n",
    "print(\"Minimum Value:\", min_value)\n"
   ]
  },
  {
   "cell_type": "code",
   "execution_count": 94,
   "metadata": {},
   "outputs": [
    {
     "data": {
      "text/plain": [
       "(2,)"
      ]
     },
     "execution_count": 94,
     "metadata": {},
     "output_type": "execute_result"
    }
   ],
   "source": [
    "gradient(initial_guess).shape\n"
   ]
  },
  {
   "attachments": {},
   "cell_type": "markdown",
   "metadata": {},
   "source": [
    "# Try"
   ]
  },
  {
   "cell_type": "code",
   "execution_count": 158,
   "metadata": {},
   "outputs": [
    {
     "data": {
      "text/plain": [
       "array([0])"
      ]
     },
     "execution_count": 158,
     "metadata": {},
     "output_type": "execute_result"
    }
   ],
   "source": [
    "np.random.seed(0)\n",
    "X = np.random.randn(20, 1)\n",
    "Y = np.sin(X) \n",
    "\n",
    "kernel = GPy.kern.RBF(input_dim=1,lengthscale= 1,variance=1**2)  \n",
    "m = GPy.models.GPRegression(X.reshape(-1,1), Y.reshape(-1,1),kernel)\n",
    "m.Gaussian_noise.variance.fix(10**(-6))\n",
    "\n"
   ]
  },
  {
   "cell_type": "code",
   "execution_count": 174,
   "metadata": {},
   "outputs": [],
   "source": [
    "def GPy_dK_dlengthscale(kernel, X, X2):\n",
    "    \"\"\"\n",
    "    Compute the derivative(s) of K with respect to lengthscale(s).\n",
    "    \"\"\"\n",
    "    lengthscaleinv = (np.ones(X.shape[1])/(kernel.lengthscale))\n",
    "    dist = np.rollaxis(X[:,None,:] - X2[None,:,:], 2, 0)\n",
    "\n",
    "    K = kernel._clean_K(X, X2)\n",
    "\n",
    " \n",
    "    g = np.dot(K,(lengthscaleinv[0]**3)*np.sum(dist**2, axis=0))\n",
    "    return g"
   ]
  },
  {
   "cell_type": "code",
   "execution_count": 170,
   "metadata": {},
   "outputs": [
    {
     "data": {
      "text/plain": [
       "array([[ 9.13734359, 10.06479077,  5.19739128, 17.45580397, 10.56249921,\n",
       "        48.18214484,  5.28327455, 20.84150217, 19.6622691 ,  9.91854082,\n",
       "        14.32435292,  6.13266444,  6.25524415, 14.75771295,  9.46692137,\n",
       "        11.04636524,  6.41294028, 22.21345596, 11.3682789 , 43.2520511 ],\n",
       "       [32.36446961,  6.44352118, 10.61359907, 54.6130045 , 36.61333877,\n",
       "        36.99160998, 10.17042001, 11.83172328, 10.99739047,  6.42965878,\n",
       "         7.80913627, 21.5714884 ,  7.86428839,  8.02198794,  6.40733609,\n",
       "         6.60861624, 22.79690895, 12.84659391,  6.68674842, 31.93868158],\n",
       "       [22.42374449,  8.31784815,  7.8974995 , 39.72698085, 25.63502123,\n",
       "        47.29408483,  7.69624563, 17.50333433, 16.360047  ,  8.22665023,\n",
       "        11.5170657 , 14.61733044,  6.94831867, 11.88428042,  7.95659647,\n",
       "         8.9706159 , 15.46895977, 18.85841332,  9.19823868, 41.63081878],\n",
       "       [ 4.26172497,  9.19742887,  4.00194991,  8.52790592,  4.92397759,\n",
       "        39.9586275 ,  4.15166245, 18.40450468, 17.43545963,  9.0631743 ,\n",
       "        12.9565748 ,  3.15365094,  5.42052449, 13.32741586,  8.64537977,\n",
       "        10.08717951,  3.22267539, 19.52498123, 10.37521195, 36.15300685],\n",
       "       [ 7.84755274, 10.02142992,  4.92631497, 15.14870665,  9.07748826,\n",
       "        46.89584759,  5.03391247, 20.6022692 , 19.456187  ,  9.87500078,\n",
       "        14.24015745,  5.34231936,  6.12190078, 14.66582395,  9.42184716,\n",
       "        11.00075712,  5.56553797, 21.93353881, 11.32078523, 42.17927087],\n",
       "       [29.3215921 ,  4.54283491, 11.47842871, 44.89242491, 32.39736778,\n",
       "         9.23507327, 11.01100569,  2.8367503 ,  2.79496175,  4.62131189,\n",
       "         3.15514847, 21.12376331,  8.25050734,  3.08297403,  4.88277217,\n",
       "         4.08339629, 22.09258347,  2.92661696,  3.9551151 ,  7.59953247],\n",
       "       [22.96916336,  8.21622548,  8.02317738, 40.58976215, 26.24531582,\n",
       "        46.93110352,  7.80903223, 17.24976508, 16.11722399,  8.12851352,\n",
       "        11.33702544, 14.98187929,  6.9803129 , 11.69803815,  7.86971657,\n",
       "         8.84732817, 15.8556339 , 18.59340322,  9.06842213, 41.27516673],\n",
       "       [36.5738902 ,  5.46523064, 12.59090139, 59.17783074, 40.96410735,\n",
       "        24.50051649, 12.02754674,  7.00059115,  6.542809  ,  5.51456185,\n",
       "         5.16735149, 25.1451646 ,  8.86003041,  5.22456673,  5.69115102,\n",
       "         5.21945607, 26.47013074,  7.58550398,  5.16725597, 20.73385688],\n",
       "       [36.50070754,  5.52097087, 12.48433063, 59.26747317, 40.91711567,\n",
       "        25.58083384, 11.92528137,  7.35867397,  6.86876271,  5.56596788,\n",
       "         5.3455746 , 25.02391986,  8.79592334,  5.41496275,  5.72909319,\n",
       "         5.30400472, 26.35251645,  7.9807944 ,  5.26115898, 21.68595287],\n",
       "       [32.22129573,  6.47059012, 10.56514002, 54.41670298, 36.45835131,\n",
       "        37.21811061, 10.12558614, 11.9353259 , 11.09413646,  6.45532152,\n",
       "         7.87119515, 21.46460339,  7.84367581,  8.08714814,  6.4285294 ,\n",
       "         6.64467618, 22.68528268, 12.95789967,  6.72560823, 32.14622215],\n",
       "       [35.19923747,  5.88530493, 11.70807613, 58.22187496, 39.63428201,\n",
       "        31.2337023 , 11.19045861,  9.40547406,  8.74556855,  5.90405311,\n",
       "         6.4189626 , 23.78894272,  8.37380284,  6.55622749,  5.98494118,\n",
       "         5.84035727, 25.09873203, 10.22282363,  5.85254323, 26.71832146],\n",
       "       [13.75363917,  9.73845185,  6.10019705, 25.47610207, 15.84390139,\n",
       "        50.07409521,  6.09513328, 20.53359319, 19.30648291,  9.60305662,\n",
       "        13.86211288,  9.00284039,  6.54555307, 14.29549779,  9.18879505,\n",
       "        10.66067615,  9.48696739, 21.96952829, 10.96762068, 44.65061399],\n",
       "       [26.50526506,  7.5492678 ,  8.89076859, 46.07525506, 30.18343401,\n",
       "        44.08400795,  8.59202253, 15.46083435, 14.41297407,  7.48600534,\n",
       "        10.10767578, 17.3848009 ,  7.22754841, 10.4229761 ,  7.30589656,\n",
       "         8.02748942, 18.39828949, 16.71282915,  8.20217856, 38.53855941],\n",
       "       [35.3786525 ,  5.84594326, 11.79197357, 58.41895266, 39.82012077,\n",
       "        30.72032699, 11.26930854,  9.20684874,  8.56246838,  5.86731339,\n",
       "         6.3107121 , 23.94055209,  8.41658736,  6.44154287,  5.95645724,\n",
       "         5.78395812, 25.25463455, 10.0064793 ,  5.79074298, 26.25769113],\n",
       "       [31.75250277,  6.55904234, 10.40949077, 53.76798426, 35.94984687,\n",
       "        37.93342474,  9.98175667, 12.26703814, 11.40420476,  6.53926791,\n",
       "         8.07132906, 21.1168345 ,  7.77854029,  8.29714187,  6.49814543,\n",
       "         6.76190517, 22.3217802 , 13.31389499,  6.85178714, 32.80285474],\n",
       "       [33.22914514,  6.27908131, 10.91676093, 55.77751659, 37.54573816,\n",
       "        35.52989367, 10.45150392, 11.17898029, 10.38892381,  6.27406267,\n",
       "         7.42310518, 22.22472961,  7.99687444,  7.61617789,  6.27981582,\n",
       "         6.38751616, 23.47805288, 12.14399154,  6.4479637 , 30.60353317],\n",
       "       [13.10134618,  9.81502929,  5.97429021, 24.36284089, 15.10062357,\n",
       "        49.9999587 ,  5.98295307, 20.65680485, 19.43131513,  9.67737314,\n",
       "        13.9781148 ,  8.59278513,  6.51428541, 14.41348   ,  9.25556711,\n",
       "        10.75044841,  9.04830924, 22.08964071, 11.06106126, 44.62624135],\n",
       "       [36.58464619,  5.4071334 , 12.69019647, 58.96503593, 40.93723977,\n",
       "        23.30761511, 12.12349304,  6.61663245,  6.19412889,  5.4609785 ,\n",
       "         4.97927362, 25.23240473,  8.92226814,  5.02337921,  5.65153827,\n",
       "         5.13117467, 26.55057465,  7.16056946,  5.06911259, 19.68602669],\n",
       "       [33.47995245,  6.23091319, 11.00853776, 56.10751362, 37.81485027,\n",
       "        35.07078238, 10.5368059 , 10.97942254, 10.20327943,  6.22859129,\n",
       "         7.30681829, 22.41705733,  8.0382626 ,  7.4937618 ,  6.24289397,\n",
       "         6.32202946, 23.67820525, 11.92872543,  6.37705723, 30.18563187],\n",
       "       [31.24963017,  4.72880079, 12.00114411, 48.20659545, 34.59207663,\n",
       "        11.00462515, 11.50309789,  3.25350462,  3.17011927,  4.80810309,\n",
       "         3.38130894, 22.36703465,  8.57696168,  3.31815987,  5.0734799 ,\n",
       "         4.26863468, 23.41433111,  3.39471674,  4.1417168 ,  9.0906839 ]])"
      ]
     },
     "execution_count": 170,
     "metadata": {},
     "output_type": "execute_result"
    }
   ],
   "source": [
    "GPy_dK_dlengthscale(kernel, X, X)"
   ]
  },
  {
   "cell_type": "code",
   "execution_count": 166,
   "metadata": {},
   "outputs": [
    {
     "data": {
      "text/plain": [
       "array([[ 4.5686718 ,  5.03239538,  2.59869564,  8.72790199,  5.2812496 ,\n",
       "        24.09107242,  2.64163727, 10.42075109,  9.83113455,  4.95927041,\n",
       "         7.16217646,  3.06633222,  3.12762207,  7.37885648,  4.73346069,\n",
       "         5.52318262,  3.20647014, 11.10672798,  5.68413945, 21.62602555],\n",
       "       [16.18223481,  3.22176059,  5.30679954, 27.30650225, 18.30666939,\n",
       "        18.49580499,  5.08521001,  5.91586164,  5.49869524,  3.21482939,\n",
       "         3.90456814, 10.7857442 ,  3.93214419,  4.01099397,  3.20366804,\n",
       "         3.30430812, 11.39845447,  6.42329695,  3.34337421, 15.96934079],\n",
       "       [11.21187224,  4.15892407,  3.94874975, 19.86349042, 12.81751061,\n",
       "        23.64704241,  3.84812282,  8.75166716,  8.1800235 ,  4.11332512,\n",
       "         5.75853285,  7.30866522,  3.47415934,  5.94214021,  3.97829823,\n",
       "         4.48530795,  7.73447988,  9.42920666,  4.59911934, 20.81540939],\n",
       "       [ 2.13086248,  4.59871443,  2.00097496,  4.26395296,  2.4619888 ,\n",
       "        19.97931375,  2.07583123,  9.20225234,  8.71772981,  4.53158715,\n",
       "         6.4782874 ,  1.57682547,  2.71026224,  6.66370793,  4.32268989,\n",
       "         5.04358975,  1.6113377 ,  9.76249061,  5.18760597, 18.07650343],\n",
       "       [ 3.92377637,  5.01071496,  2.46315749,  7.57435333,  4.53874413,\n",
       "        23.4479238 ,  2.51695623, 10.3011346 ,  9.7280935 ,  4.93750039,\n",
       "         7.12007873,  2.67115968,  3.06095039,  7.33291198,  4.71092358,\n",
       "         5.50037856,  2.78276898, 10.9667694 ,  5.66039262, 21.08963543],\n",
       "       [14.66079605,  2.27141746,  5.73921435, 22.44621246, 16.19868389,\n",
       "         4.61753663,  5.50550285,  1.41837515,  1.39748087,  2.31065594,\n",
       "         1.57757423, 10.56188165,  4.12525367,  1.54148701,  2.44138608,\n",
       "         2.04169814, 11.04629173,  1.46330848,  1.97755755,  3.79976623],\n",
       "       [11.48458168,  4.10811274,  4.01158869, 20.29488107, 13.12265791,\n",
       "        23.46555176,  3.90451611,  8.62488254,  8.058612  ,  4.06425676,\n",
       "         5.66851272,  7.49093965,  3.49015645,  5.84901907,  3.93485828,\n",
       "         4.42366408,  7.92781695,  9.29670161,  4.53421107, 20.63758336],\n",
       "       [18.2869451 ,  2.73261532,  6.2954507 , 29.58891537, 20.48205368,\n",
       "        12.25025825,  6.01377337,  3.50029558,  3.2714045 ,  2.75728093,\n",
       "         2.58367574, 12.5725823 ,  4.43001521,  2.61228337,  2.84557551,\n",
       "         2.60972803, 13.23506537,  3.79275199,  2.58362798, 10.36692844],\n",
       "       [18.25035377,  2.76048543,  6.24216531, 29.63373659, 20.45855784,\n",
       "        12.79041692,  5.96264069,  3.67933698,  3.43438135,  2.78298394,\n",
       "         2.6727873 , 12.51195993,  4.39796167,  2.70748137,  2.86454659,\n",
       "         2.65200236, 13.17625822,  3.9903972 ,  2.63057949, 10.84297643],\n",
       "       [16.11064787,  3.23529506,  5.28257001, 27.20835149, 18.22917565,\n",
       "        18.6090553 ,  5.06279307,  5.96766295,  5.54706823,  3.22766076,\n",
       "         3.93559757, 10.7323017 ,  3.9218379 ,  4.04357407,  3.2142647 ,\n",
       "         3.32233809, 11.34264134,  6.47894983,  3.36280411, 16.07311107],\n",
       "       [17.59961874,  2.94265247,  5.85403807, 29.11093748, 19.81714101,\n",
       "        15.61685115,  5.5952293 ,  4.70273703,  4.37278428,  2.95202655,\n",
       "         3.2094813 , 11.89447136,  4.18690142,  3.27811375,  2.99247059,\n",
       "         2.92017864, 12.54936601,  5.11141181,  2.92627162, 13.35916073],\n",
       "       [ 6.87681959,  4.86922593,  3.05009853, 12.73805103,  7.9219507 ,\n",
       "        25.03704761,  3.04756664, 10.26679659,  9.65324145,  4.80152831,\n",
       "         6.93105644,  4.5014202 ,  3.27277654,  7.1477489 ,  4.59439752,\n",
       "         5.33033807,  4.74348369, 10.98476415,  5.48381034, 22.32530699],\n",
       "       [13.25263253,  3.7746339 ,  4.4453843 , 23.03762753, 15.09171701,\n",
       "        22.04200398,  4.29601127,  7.73041718,  7.20648704,  3.74300267,\n",
       "         5.05383789,  8.69240045,  3.6137742 ,  5.21148805,  3.65294828,\n",
       "         4.01374471,  9.19914474,  8.35641457,  4.10108928, 19.26927971],\n",
       "       [17.68932625,  2.92297163,  5.89598679, 29.20947633, 19.91006039,\n",
       "        15.3601635 ,  5.63465427,  4.60342437,  4.28123419,  2.93365669,\n",
       "         3.15535605, 11.97027604,  4.20829368,  3.22077144,  2.97822862,\n",
       "         2.89197906, 12.62731727,  5.00323965,  2.89537149, 13.12884556],\n",
       "       [15.87625139,  3.27952117,  5.20474539, 26.88399213, 17.97492344,\n",
       "        18.96671237,  4.99087833,  6.13351907,  5.70210238,  3.26963396,\n",
       "         4.03566453, 10.55841725,  3.88927015,  4.14857094,  3.24907272,\n",
       "         3.38095259, 11.1608901 ,  6.6569475 ,  3.42589357, 16.40142737],\n",
       "       [16.61457257,  3.13954066,  5.45838046, 27.8887583 , 18.77286908,\n",
       "        17.76494684,  5.22575196,  5.58949014,  5.19446191,  3.13703134,\n",
       "         3.71155259, 11.1123648 ,  3.99843722,  3.80808894,  3.13990791,\n",
       "         3.19375808, 11.73902644,  6.07199577,  3.22398185, 15.30176659],\n",
       "       [ 6.55067309,  4.90751464,  2.9871451 , 12.18142045,  7.55031179,\n",
       "        24.99997935,  2.99147654, 10.32840243,  9.71565756,  4.83868657,\n",
       "         6.9890574 ,  4.29639257,  3.2571427 ,  7.20674   ,  4.62778356,\n",
       "         5.37522421,  4.52415462, 11.04482035,  5.53053063, 22.31312068],\n",
       "       [18.2923231 ,  2.7035667 ,  6.34509824, 29.48251796, 20.46861989,\n",
       "        11.65380756,  6.06174652,  3.30831622,  3.09706445,  2.73048925,\n",
       "         2.48963681, 12.61620237,  4.46113407,  2.5116896 ,  2.82576913,\n",
       "         2.56558733, 13.27528732,  3.58028473,  2.53455629,  9.84301334],\n",
       "       [16.73997622,  3.1154566 ,  5.50426888, 28.05375681, 18.90742514,\n",
       "        17.53539119,  5.26840295,  5.48971127,  5.10163971,  3.11429565,\n",
       "         3.65340914, 11.20852867,  4.0191313 ,  3.7468809 ,  3.12144698,\n",
       "         3.16101473, 11.83910262,  5.96436271,  3.18852861, 15.09281594],\n",
       "       [15.62481508,  2.36440039,  6.00057206, 24.10329773, 17.29603831,\n",
       "         5.50231258,  5.75154895,  1.62675231,  1.58505963,  2.40405155,\n",
       "         1.69065447, 11.18351732,  4.28848084,  1.65907993,  2.53673995,\n",
       "         2.13431734, 11.70716555,  1.69735837,  2.0708584 ,  4.54534195]])"
      ]
     },
     "execution_count": 166,
     "metadata": {},
     "output_type": "execute_result"
    }
   ],
   "source": [
    "dK_dlengthscale(X, X, np.array([1,1]))"
   ]
  },
  {
   "cell_type": "code",
   "execution_count": 160,
   "metadata": {},
   "outputs": [
    {
     "data": {
      "text/html": [
       "<style type=\"text/css\">\n",
       ".pd{\n",
       "    font-family: \"Courier New\", Courier, monospace !important;\n",
       "    width: 100%;\n",
       "    padding: 3px;\n",
       "}\n",
       "</style>\n",
       "\n",
       "<p class=pd>\n",
       "<b>Model</b>: GP regression<br>\n",
       "<b>Objective</b>: -72.80330372629663<br>\n",
       "<b>Number of Parameters</b>: 3<br>\n",
       "<b>Number of Optimization Parameters</b>: 2<br>\n",
       "<b>Updates</b>: True<br>\n",
       "</p>\n",
       "<style type=\"text/css\">\n",
       ".tg  {font-family:\"Courier New\", Courier, monospace !important;padding:2px 3px;word-break:normal;border-collapse:collapse;border-spacing:0;border-color:#DCDCDC;margin:0px auto;width:100%;}\n",
       ".tg td{font-family:\"Courier New\", Courier, monospace !important;font-weight:bold;color:#444;background-color:#F7FDFA;border-style:solid;border-width:1px;overflow:hidden;word-break:normal;border-color:#DCDCDC;}\n",
       ".tg th{font-family:\"Courier New\", Courier, monospace !important;font-weight:normal;color:#fff;background-color:#26ADE4;border-style:solid;border-width:1px;overflow:hidden;word-break:normal;border-color:#DCDCDC;}\n",
       ".tg .tg-left{font-family:\"Courier New\", Courier, monospace !important;font-weight:normal;text-align:left;}\n",
       ".tg .tg-center{font-family:\"Courier New\", Courier, monospace !important;font-weight:normal;text-align:center;}\n",
       ".tg .tg-right{font-family:\"Courier New\", Courier, monospace !important;font-weight:normal;text-align:right;}\n",
       "</style>\n",
       "<table class=\"tg\"><tr><th><b>  GP_regression.         </b></th><th><b>value</b></th><th><b>constraints</b></th><th><b>priors</b></th></tr>\n",
       "<tr><td class=tg-left>  rbf.variance           </td><td class=tg-right>  1.0</td><td class=tg-center>    +ve    </td><td class=tg-center>      </td></tr>\n",
       "<tr><td class=tg-left>  rbf.lengthscale        </td><td class=tg-right>  1.0</td><td class=tg-center>    +ve    </td><td class=tg-center>      </td></tr>\n",
       "<tr><td class=tg-left>  Gaussian_noise.variance</td><td class=tg-right>1e-06</td><td class=tg-center> +ve fixed </td><td class=tg-center>      </td></tr>\n",
       "</table>"
      ],
      "text/plain": [
       "<GPy.models.gp_regression.GPRegression at 0x7fa556d34b80>"
      ]
     },
     "execution_count": 160,
     "metadata": {},
     "output_type": "execute_result"
    }
   ],
   "source": [
    "m"
   ]
  },
  {
   "cell_type": "code",
   "execution_count": 107,
   "metadata": {},
   "outputs": [
    {
     "data": {
      "text/html": [
       "<style type=\"text/css\">\n",
       ".pd{\n",
       "    font-family: \"Courier New\", Courier, monospace !important;\n",
       "    width: 100%;\n",
       "    padding: 3px;\n",
       "}\n",
       "</style>\n",
       "\n",
       "<p class=pd>\n",
       "<b>Model</b>: GP regression<br>\n",
       "<b>Objective</b>: -84.5313766796579<br>\n",
       "<b>Number of Parameters</b>: 3<br>\n",
       "<b>Number of Optimization Parameters</b>: 2<br>\n",
       "<b>Updates</b>: True<br>\n",
       "</p>\n",
       "<style type=\"text/css\">\n",
       ".tg  {font-family:\"Courier New\", Courier, monospace !important;padding:2px 3px;word-break:normal;border-collapse:collapse;border-spacing:0;border-color:#DCDCDC;margin:0px auto;width:100%;}\n",
       ".tg td{font-family:\"Courier New\", Courier, monospace !important;font-weight:bold;color:#444;background-color:#F7FDFA;border-style:solid;border-width:1px;overflow:hidden;word-break:normal;border-color:#DCDCDC;}\n",
       ".tg th{font-family:\"Courier New\", Courier, monospace !important;font-weight:normal;color:#fff;background-color:#26ADE4;border-style:solid;border-width:1px;overflow:hidden;word-break:normal;border-color:#DCDCDC;}\n",
       ".tg .tg-left{font-family:\"Courier New\", Courier, monospace !important;font-weight:normal;text-align:left;}\n",
       ".tg .tg-center{font-family:\"Courier New\", Courier, monospace !important;font-weight:normal;text-align:center;}\n",
       ".tg .tg-right{font-family:\"Courier New\", Courier, monospace !important;font-weight:normal;text-align:right;}\n",
       "</style>\n",
       "<table class=\"tg\"><tr><th><b>  GP_regression.         </b></th><th><b>             value</b></th><th><b>constraints</b></th><th><b>priors</b></th></tr>\n",
       "<tr><td class=tg-left>  rbf.variance           </td><td class=tg-right>2.4040930561010505</td><td class=tg-center>    +ve    </td><td class=tg-center>      </td></tr>\n",
       "<tr><td class=tg-left>  rbf.lengthscale        </td><td class=tg-right> 2.378001819186986</td><td class=tg-center>    +ve    </td><td class=tg-center>      </td></tr>\n",
       "<tr><td class=tg-left>  Gaussian_noise.variance</td><td class=tg-right>             1e-06</td><td class=tg-center> +ve fixed </td><td class=tg-center>      </td></tr>\n",
       "</table>"
      ],
      "text/plain": [
       "<GPy.models.gp_regression.GPRegression at 0x7fa56c0dae80>"
      ]
     },
     "execution_count": 107,
     "metadata": {},
     "output_type": "execute_result"
    }
   ],
   "source": [
    "m.optimize()\n",
    "m"
   ]
  },
  {
   "cell_type": "code",
   "execution_count": 175,
   "metadata": {},
   "outputs": [
    {
     "name": "stdout",
     "output_type": "stream",
     "text": [
      "[25.30962642]\n",
      "[-3.35854054]\n"
     ]
    }
   ],
   "source": [
    "print(m.rbf.lengthscale.gradient)\n",
    "print(m.rbf.variance.gradient)"
   ]
  },
  {
   "cell_type": "code",
   "execution_count": 176,
   "metadata": {},
   "outputs": [
    {
     "name": "stdout",
     "output_type": "stream",
     "text": [
      "[12.66444837 -3.35974196]\n",
      "-72.85873598582145\n"
     ]
    }
   ],
   "source": [
    "print(parameter_gradient(X,Y,np.array([1**2,1])))\n",
    "print(negative_log_llk(X,Y,np.array([1**2,1])))"
   ]
  },
  {
   "attachments": {},
   "cell_type": "markdown",
   "metadata": {},
   "source": [
    "I need a function where the inputs is parameter and X,y, returning loglikelihood and its gradient"
   ]
  },
  {
   "cell_type": "code",
   "execution_count": 185,
   "metadata": {},
   "outputs": [],
   "source": [
    "import numpy as np\n",
    "import scipy\n",
    "from sklearn.metrics.pairwise import euclidean_distances\n",
    "from scipy.optimize import minimize\n",
    "from scipy.optimize import fmin_l_bfgs_b\n",
    "\n",
    "\n",
    "def array(*args, **kwargs):\n",
    "    kwargs.setdefault(\"dtype\", np.float32)\n",
    "    return np.array(*args, **kwargs)\n",
    "\n",
    "def cov_RBF(x1, x2, parameters):  \n",
    "    \n",
    "    lengthscale_square =   parameters[:,0]  # lengthscale^2\n",
    "    variance = parameters[:,1] # sigma^2\n",
    "\n",
    "\n",
    "    if x1.shape[1]!=x2.shape[1]:\n",
    "        x1=np.reshape(x1,(-1,x2.shape[1]))\n",
    "\n",
    "    Euc_dist=euclidean_distances(x1,x2) \n",
    "\n",
    "    return variance*np.exp(-0.5*np.square(Euc_dist)/lengthscale_square)\n",
    "\n",
    "\n",
    "#################### Normal GP ############################\n",
    "\n",
    "def negative_log_llk(X,y,parameters):\n",
    "\n",
    "    noise_delta = 10**(-6)\n",
    "    \n",
    "    parameters = parameters.reshape(-1,2)\n",
    "    \n",
    "    if np.isnan(parameters).any():\n",
    "        #print('issue with scipy.minimize!')\n",
    "        \n",
    "        return -np.inf\n",
    " \n",
    "    KK_x_x=cov_RBF(X,X,parameters)+np.eye(len(X))*noise_delta     \n",
    "    if np.isnan(KK_x_x).any(): #NaN\n",
    "        print(\"nan in KK_x_x !\")   \n",
    "        print('X is: ',X)\n",
    "        print('parameter is: ',parameters)\n",
    "        print(np.isnan(parameters).any())\n",
    "\n",
    "    \n",
    "    try:\n",
    "        first_term = -0.5*np.log(np.linalg.det(KK_x_x))\n",
    "        \n",
    "        KK_inv = np.linalg.inv(KK_x_x)\n",
    "        second_term = -0.5* np.dot(np.dot(y.T,KK_inv),y)\n",
    "            \n",
    "\n",
    "    except: # singular\n",
    "        return -np.inf\n",
    "\n",
    "    logmarginal = first_term+second_term -0.5*len(y)*np.log(2*3.1415926)\n",
    "    \n",
    "    return -logmarginal.item()"
   ]
  },
  {
   "cell_type": "code",
   "execution_count": 186,
   "metadata": {},
   "outputs": [],
   "source": [
    "def dK_dvariance(x1, x2, parameters):\n",
    "    \"\"\"\n",
    "    Compute the derivative of K with respect to variance.\n",
    "    \n",
    "    \"\"\"\n",
    "    parameters = parameters.reshape(-1,2)\n",
    "    variance = parameters[:,1] # sigma^2\n",
    "    return cov_RBF(x1, x2, parameters)/variance\n",
    "\n",
    "\n",
    "def dK_dlengthscale(x1, x2, parameters):\n",
    "    \"\"\"\n",
    "    Compute the derivative(s) of K with respect to lengthscale(s).\n",
    "    \"\"\"\n",
    "    parameters = parameters.reshape(-1,2)\n",
    "    lengthscale_square =   parameters[:,0] \n",
    "\n",
    "    Euc_dist =euclidean_distances(x1,x2) \n",
    "    #g=np.dot(cov_RBF(x1, x2, parameters),0.5*Euc_dist**2/(np.sqrt(lengthscale_square)**2))\n",
    "    g = cov_RBF(x1, x2, parameters)*0.5*Euc_dist**2/(np.sqrt(lengthscale_square)**2)\n",
    "    \n",
    "    return g\n",
    "\n",
    "\n",
    "\n",
    "def parameter_gradient(X,Y,parameters):\n",
    "    \n",
    "    res = np.array([0.,0.])\n",
    "    \n",
    "    parameters = parameters.reshape(-1,2)\n",
    "    noise_delta = 10**(-6)\n",
    "    KK_x_x=cov_RBF(X,X,parameters)+np.eye(len(X))*noise_delta  \n",
    "\n",
    "    KK_inv = np.linalg.inv(KK_x_x)\n",
    "    alpha = np.dot(KK_inv,Y).reshape(-1,1) \n",
    "\n",
    "    res[0] = 0.5* np.trace(np.dot((np.dot(alpha,alpha.T)-KK_inv),dK_dlengthscale(X, X, parameters)))\n",
    "    res[1] = 0.5* np.trace(np.dot((np.dot(alpha,alpha.T)-KK_inv),dK_dvariance(X, X, parameters)))  #gradient towards variance\n",
    "    \n",
    "    return res\n",
    "    "
   ]
  },
  {
   "cell_type": "code",
   "execution_count": 150,
   "metadata": {},
   "outputs": [
    {
     "name": "stdout",
     "output_type": "stream",
     "text": [
      "[2.50000286 0.2549887 ]\n",
      "-0.8510023783463037\n"
     ]
    }
   ],
   "source": [
    "bounds = [(0.01**2, 3.**2), (0.01**2, 4**2)]\n",
    "\n",
    "# Initial guess for the optimization\n",
    "initial_guess = np.array([2.5**2,0.064 ])\n",
    "\n",
    "# Call fmin_l_bfgs_b with bounds to perform the optimization\n",
    "objective_function = lambda x : negative_log_llk(X,Y,x)\n",
    "gradient = lambda x : parameter_gradient(X,Y,x)\n",
    "\n",
    "result = fmin_l_bfgs_b(objective_function, initial_guess, fprime=gradient, bounds=bounds)\n",
    "\n",
    "# Extract the optimized parameters and the minimum value\n",
    "optimized_params = result[0]\n",
    "min_value = result[1]\n",
    "\n",
    "print(np.sqrt(optimized_params))\n",
    "print(min_value)"
   ]
  },
  {
   "cell_type": "code",
   "execution_count": 187,
   "metadata": {},
   "outputs": [
    {
     "name": "stdout",
     "output_type": "stream",
     "text": [
      "[4. 4.]\n",
      "-82.4787554137622\n"
     ]
    }
   ],
   "source": [
    "bounds = [(0.01**2, 3.**2), (0.01**2, 4**2)]\n",
    "\n",
    "# Initial guess for the optimization\n",
    "initial_guess = np.array([2.**2,2.**2 ])\n",
    "\n",
    "# Call fmin_l_bfgs_b with bounds to perform the optimization\n",
    "objective_function = lambda x : negative_log_llk(X,Y,x)\n",
    "gradient = lambda x : parameter_gradient(X,Y,x)\n",
    "\n",
    "result = fmin_l_bfgs_b(objective_function, initial_guess, fprime=gradient, bounds=bounds)\n",
    "\n",
    "# Extract the optimized parameters and the minimum value\n",
    "optimized_params = result[0]\n",
    "min_value = result[1]\n",
    "\n",
    "print(optimized_params)\n",
    "print(min_value)"
   ]
  },
  {
   "cell_type": "code",
   "execution_count": 188,
   "metadata": {},
   "outputs": [
    {
     "data": {
      "text/plain": [
       "array([ 6.77383432, -0.60333288])"
      ]
     },
     "execution_count": 188,
     "metadata": {},
     "output_type": "execute_result"
    }
   ],
   "source": [
    "parameter_gradient(X,Y,initial_guess)"
   ]
  }
 ],
 "metadata": {
  "kernelspec": {
   "display_name": "known_boundary",
   "language": "python",
   "name": "python3"
  },
  "language_info": {
   "codemirror_mode": {
    "name": "ipython",
    "version": 3
   },
   "file_extension": ".py",
   "mimetype": "text/x-python",
   "name": "python",
   "nbconvert_exporter": "python",
   "pygments_lexer": "ipython3",
   "version": "3.9.16"
  },
  "orig_nbformat": 4
 },
 "nbformat": 4,
 "nbformat_minor": 2
}
