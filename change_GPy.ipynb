{
 "cells": [
  {
   "cell_type": "code",
   "execution_count": 52,
   "metadata": {},
   "outputs": [],
   "source": [
    "import matplotlib.pyplot as plt"
   ]
  },
  {
   "cell_type": "code",
   "execution_count": 25,
   "metadata": {},
   "outputs": [],
   "source": [
    "import numpy as np\n",
    "#from ..util.warping_functions import *\n",
    "from GPy.core import GP\n",
    "from GPy import likelihoods\n",
    "from paramz import ObsAr\n",
    "#from GPy.util.warping_functions import TanhFunction\n",
    "from GPy.util.warping_functions import TanhFunction\n",
    "from GPy import kern\n",
    "\n",
    "class WarpedGP(GP):\n",
    "    \"\"\"\n",
    "    This defines a GP Regression model that applies a \n",
    "    warping function to the output.\n",
    "    \"\"\"\n",
    "    def __init__(self, X, Y, kernel=None, warping_function=None, warping_terms=3, normalizer=False):\n",
    "        if kernel is None:\n",
    "            kernel = kern.RBF(X.shape[1])\n",
    "        if warping_function == None:\n",
    "            self.warping_function = TanhFunction(warping_terms)\n",
    "            self.warping_params = (np.random.randn(self.warping_function.n_terms * 3 + 1) * 1)\n",
    "        else:\n",
    "            self.warping_function = warping_function\n",
    "        likelihood = likelihoods.Gaussian()\n",
    "        super(WarpedGP, self).__init__(X, Y.copy(), likelihood=likelihood, kernel=kernel, normalizer=normalizer)\n",
    "        self.Y_normalized = self.Y_normalized.copy()\n",
    "        self.Y_untransformed = self.Y_normalized.copy()\n",
    "        self.predict_in_warped_space = True\n",
    "        self.link_parameter(self.warping_function)\n",
    "\n",
    "    def set_XY(self, X=None, Y=None):\n",
    "        super(WarpedGP, self).set_XY(X, Y)\n",
    "        self.Y_untransformed = self.Y_normalized.copy()\n",
    "        self.update_model(True)\n",
    "\n",
    "    def parameters_changed(self):\n",
    "        \"\"\"\n",
    "        Notice that we update the warping function gradients here.\n",
    "        \"\"\"\n",
    "        self.Y_normalized[:] = self.transform_data()\n",
    "        super(WarpedGP, self).parameters_changed()\n",
    "        Kiy = self.posterior.woodbury_vector.flatten()\n",
    "        self.warping_function.update_grads(self.Y_untransformed, Kiy)\n",
    "\n",
    "    def transform_data(self):\n",
    "        Y = self.warping_function.f(self.Y_untransformed.copy()).copy()\n",
    "        return Y\n",
    "\n",
    "    def log_likelihood(self):\n",
    "        \"\"\"\n",
    "        Notice we add the jacobian of the warping function here.\n",
    "        \"\"\"\n",
    "        ll = GP.log_likelihood(self)\n",
    "        jacobian = self.warping_function.fgrad_y(self.Y_untransformed)\n",
    "        return ll + np.log(jacobian).sum()\n",
    "\n",
    "    def plot_warping(self):\n",
    "        self.warping_function.plot(self.Y_untransformed.min(), self.Y_untransformed.max())\n",
    "\n",
    "    def _get_warped_term(self, mean, std, gh_samples, pred_init=None):\n",
    "        arg1 = gh_samples.dot(std.T) * np.sqrt(2)\n",
    "        arg2 = np.ones(shape=gh_samples.shape).dot(mean.T)\n",
    "        return self.warping_function.f_inv(arg1 + arg2, y=pred_init)\n",
    "\n",
    "    def _get_warped_mean(self, mean, std, pred_init=None, deg_gauss_hermite=20):\n",
    "        \"\"\"\n",
    "        Calculate the warped mean by using Gauss-Hermite quadrature.\n",
    "        \"\"\"\n",
    "        gh_samples, gh_weights = np.polynomial.hermite.hermgauss(deg_gauss_hermite)\n",
    "        gh_samples = gh_samples[:, None]\n",
    "        gh_weights = gh_weights[None, :]\n",
    "        return gh_weights.dot(self._get_warped_term(mean, std, gh_samples)) / np.sqrt(np.pi)\n",
    "\n",
    "    def _get_warped_variance(self, mean, std, pred_init=None, deg_gauss_hermite=20):\n",
    "        \"\"\"\n",
    "        Calculate the warped variance by using Gauss-Hermite quadrature.\n",
    "        \"\"\"\n",
    "        gh_samples, gh_weights = np.polynomial.hermite.hermgauss(deg_gauss_hermite)\n",
    "        gh_samples = gh_samples[:, None]\n",
    "        gh_weights = gh_weights[None, :]\n",
    "        arg1 = gh_weights.dot(self._get_warped_term(mean, std, gh_samples, \n",
    "                                                    pred_init=pred_init) ** 2) / np.sqrt(np.pi)\n",
    "        arg2 = self._get_warped_mean(mean, std, pred_init=pred_init,\n",
    "                                     deg_gauss_hermite=deg_gauss_hermite)\n",
    "        return arg1 - (arg2 ** 2)\n",
    "\n",
    "    def predict(self, Xnew, kern=None, pred_init=None, Y_metadata=None,\n",
    "                median=False, deg_gauss_hermite=20, likelihood=None):\n",
    "        \"\"\"\n",
    "        Prediction results depend on:\n",
    "        - The value of the self.predict_in_warped_space flag\n",
    "        - The median flag passed as argument\n",
    "        The likelihood keyword is never used, it is just to follow the plotting API.\n",
    "        \"\"\"\n",
    "        #mu, var = GP._raw_predict(self, Xnew)\n",
    "        # now push through likelihood\n",
    "        #mean, var = self.likelihood.predictive_values(mu, var)\n",
    "        \n",
    "        mean, var = super(WarpedGP, self).predict(Xnew, kern=kern, full_cov=False, likelihood=likelihood)\n",
    "\n",
    "\n",
    "        if self.predict_in_warped_space:\n",
    "            std = np.sqrt(var)\n",
    "            if median:\n",
    "                wmean = self.warping_function.f_inv(mean, y=pred_init)\n",
    "            else:\n",
    "                wmean = self._get_warped_mean(mean, std, pred_init=pred_init,\n",
    "                                              deg_gauss_hermite=deg_gauss_hermite).T\n",
    "            wvar = self._get_warped_variance(mean, std, pred_init=pred_init,\n",
    "                                             deg_gauss_hermite=deg_gauss_hermite).T\n",
    "        else:\n",
    "            wmean = mean\n",
    "            wvar = var\n",
    "        return wmean, wvar\n",
    "\n",
    "    def predict_quantiles(self, X, quantiles=(2.5, 97.5), Y_metadata=None, likelihood=None, kern=None):\n",
    "        \"\"\"\n",
    "        Get the predictive quantiles around the prediction at X\n",
    "\n",
    "        :param X: The points at which to make a prediction\n",
    "        :type X: np.ndarray (Xnew x self.input_dim)\n",
    "        :param quantiles: tuple of quantiles, default is (2.5, 97.5) which is the 95% interval\n",
    "        :type quantiles: tuple\n",
    "        :returns: list of quantiles for each X and predictive quantiles for interval combination\n",
    "        :rtype: [np.ndarray (Xnew x self.input_dim), np.ndarray (Xnew x self.input_dim)]\n",
    "        \"\"\"\n",
    "        qs = super(WarpedGP, self).predict_quantiles(X, quantiles, Y_metadata=Y_metadata, likelihood=likelihood, kern=kern)\n",
    "        if self.predict_in_warped_space:\n",
    "            return [self.warping_function.f_inv(q) for q in qs]\n",
    "        return qs\n",
    "        #m, v = self._raw_predict(X,  full_cov=False)\n",
    "        #if self.normalizer is not None:\n",
    "        #    m, v = self.normalizer.inverse_mean(m), self.normalizer.inverse_variance(v)\n",
    "        #a, b = self.likelihood.predictive_quantiles(m, v, quantiles, Y_metadata)\n",
    "        #if not self.predict_in_warped_space:\n",
    "        #    return [a, b]\n",
    "        #new_a = self.warping_function.f_inv(a)\n",
    "        #new_b = self.warping_function.f_inv(b)\n",
    "        #return [new_a, new_b]\n",
    "\n",
    "    def log_predictive_density(self, x_test, y_test, Y_metadata=None):\n",
    "        \"\"\"\n",
    "        Calculation of the log predictive density. Notice we add\n",
    "        the jacobian of the warping function here.\n",
    "\n",
    "        .. math:\n",
    "            p(y_{*}|D) = p(y_{*}|f_{*})p(f_{*}|\\mu_{*}\\\\sigma^{2}_{*})\n",
    "\n",
    "        :param x_test: test locations (x_{*})\n",
    "        :type x_test: (Nx1) array\n",
    "        :param y_test: test observations (y_{*})\n",
    "        :type y_test: (Nx1) array\n",
    "        :param Y_metadata: metadata associated with the test points\n",
    "        \"\"\"\n",
    "        mu_star, var_star = self._raw_predict(x_test)\n",
    "        fy = self.warping_function.f(y_test)\n",
    "        ll_lpd = self.likelihood.log_predictive_density(fy, mu_star, var_star, Y_metadata=Y_metadata)\n",
    "        return ll_lpd + np.log(self.warping_function.fgrad_y(y_test))"
   ]
  },
  {
   "cell_type": "code",
   "execution_count": 18,
   "metadata": {},
   "outputs": [],
   "source": [
    "import numpy as np\n",
    "from GPy.core.parameterization import Parameterized, Param\n",
    "from paramz.transformations import Logexp\n",
    "import sys\n",
    "\n",
    "\n",
    "class WarpingFunction(Parameterized):\n",
    "    \"\"\"\n",
    "    abstract function for warping\n",
    "    z = f(y)\n",
    "    \"\"\"\n",
    "\n",
    "    def __init__(self, name):\n",
    "        super(WarpingFunction, self).__init__(name=name)\n",
    "        self.rate = 0.1\n",
    "\n",
    "    def f(self, y, psi):\n",
    "        \"\"\"function transformation\n",
    "        y is a list of values (GP training data) of shape [N, 1]\n",
    "        \"\"\"\n",
    "        raise NotImplementedError\n",
    "\n",
    "    def fgrad_y(self, y, psi):\n",
    "        \"\"\"gradient of f w.r.t to y\"\"\"\n",
    "        raise NotImplementedError\n",
    "\n",
    "    def fgrad_y_psi(self, y, psi):\n",
    "        \"\"\"gradient of f w.r.t to y\"\"\"\n",
    "        raise NotImplementedError\n",
    "\n",
    "    def f_inv(self, z, max_iterations=250, y=None):\n",
    "        \"\"\"\n",
    "        Calculate the numerical inverse of f. This should be\n",
    "        overwritten for specific warping functions where the\n",
    "        inverse can be found in closed form.\n",
    "\n",
    "        :param max_iterations: maximum number of N.R. iterations\n",
    "        \"\"\"\n",
    "\n",
    "        z = z.copy()\n",
    "        y = np.ones_like(z)\n",
    "\n",
    "        it = 0\n",
    "        update = np.inf\n",
    "        while np.abs(update).sum() > 1e-10 and it < max_iterations:\n",
    "            fy = self.f(y)\n",
    "            fgrady = self.fgrad_y(y)\n",
    "            update = (fy - z) / fgrady\n",
    "            y -= self.rate * update\n",
    "            it += 1\n",
    "        #if it == max_iterations:\n",
    "        #    print(\"WARNING!!! Maximum number of iterations reached in f_inv \")\n",
    "        #    print(\"Sum of roots: %.4f\" % np.sum(fy - z))\n",
    "        return y\n",
    "\n",
    "    def plot(self, xmin, xmax):\n",
    "        y = np.arange(xmin, xmax, 0.01)\n",
    "        f_y = self.f(y)\n",
    "        from matplotlib import pyplot as plt\n",
    "        plt.figure()\n",
    "        plt.plot(y, f_y)\n",
    "        plt.xlabel('y')\n",
    "        plt.ylabel('f(y)')\n",
    "        plt.title('warping function')\n",
    "        plt.show()\n",
    "\n",
    "class TanhFunction(WarpingFunction):\n",
    "    \"\"\"\n",
    "    This is the function proposed in Snelson et al.:\n",
    "    A sum of tanh functions with linear trends outside\n",
    "    the range. Notice the term 'd', which scales the\n",
    "    linear trend.\n",
    "    \"\"\"\n",
    "    def __init__(self, n_terms=3, initial_y=None):\n",
    "        \"\"\"\n",
    "        n_terms specifies the number of tanh terms to be used\n",
    "        \"\"\"\n",
    "        self.n_terms = n_terms\n",
    "        self.num_parameters = 3 * self.n_terms + 1\n",
    "        self.psi = np.ones((self.n_terms, 3))\n",
    "        super(TanhFunction, self).__init__(name='warp_tanh')\n",
    "        self.psi = Param('psi', self.psi)\n",
    "        self.psi[:, :2].constrain_positive()\n",
    "        self.d = Param('%s' % ('d'), 1.0, Logexp())\n",
    "        self.link_parameter(self.psi)\n",
    "        self.link_parameter(self.d)\n",
    "        self.initial_y = initial_y\n",
    "\n",
    "    def f(self, y):\n",
    "        \"\"\"\n",
    "        Transform y with f using parameter vector psi\n",
    "        psi = [[a,b,c]]\n",
    "\n",
    "        :math:`f = (y * d) + \\\\sum_{terms} a * tanh(b *(y + c))`\n",
    "        \"\"\"\n",
    "        d = self.d\n",
    "        mpsi = self.psi\n",
    "        z = d * y.copy()\n",
    "        for i in range(len(mpsi)):\n",
    "            a, b, c = mpsi[i]\n",
    "            z += a * np.tanh(b * (y + c))\n",
    "        return z\n",
    "\n",
    "    def fgrad_y(self, y, return_precalc=False):\n",
    "        \"\"\"\n",
    "        gradient of f w.r.t to y ([N x 1])\n",
    "\n",
    "        :returns: Nx1 vector of derivatives, unless return_precalc is true, \n",
    "        then it also returns the precomputed stuff\n",
    "        \"\"\"\n",
    "        d = self.d\n",
    "        mpsi = self.psi\n",
    "\n",
    "        # vectorized version\n",
    "        S = (mpsi[:,1] * (y[:,:,None] + mpsi[:,2])).T\n",
    "        R = np.tanh(S)\n",
    "        D = 1 - (R ** 2)\n",
    "\n",
    "        GRAD = (d + (mpsi[:,0:1][:,:,None] * mpsi[:,1:2][:,:,None] * D).sum(axis=0)).T\n",
    "\n",
    "        if return_precalc:\n",
    "            return GRAD, S, R, D\n",
    "\n",
    "        return GRAD\n",
    "\n",
    "    def fgrad_y_psi(self, y, return_covar_chain=False):\n",
    "        \"\"\"\n",
    "        gradient of f w.r.t to y and psi\n",
    "\n",
    "        :returns: NxIx4 tensor of partial derivatives\n",
    "        \"\"\"\n",
    "        mpsi = self.psi\n",
    "\n",
    "        w, s, r, d = self.fgrad_y(y, return_precalc=True)\n",
    "        gradients = np.zeros((y.shape[0], y.shape[1], len(mpsi), 4)) #d2f/dydpsi\n",
    "        for i in range(len(mpsi)):\n",
    "            a,b,c  = mpsi[i]\n",
    "            gradients[:, :, i, 0] = (b * (1.0/np.cosh(s[i])) ** 2).T  # .T to make the shape to be Nx1\n",
    "            gradients[:, :, i, 1] = a * (d[i] - 2.0 * s[i] * r[i] * (1.0/np.cosh(s[i])) ** 2).T\n",
    "            gradients[:, :, i, 2] = (-2.0 * a * (b ** 2) * r[i] * ((1.0 / np.cosh(s[i])) ** 2)).T\n",
    "        gradients[:, :, 0, 3] = 1.0\n",
    "\n",
    "        if return_covar_chain:  #df/dpsi\n",
    "            covar_grad_chain = np.zeros((y.shape[0], y.shape[1], len(mpsi), 4))\n",
    "            for i in range(len(mpsi)):\n",
    "                a,b,c = mpsi[i]\n",
    "                covar_grad_chain[:, :, i, 0] = (r[i]).T\n",
    "                covar_grad_chain[:, :, i, 1] = (a * (y + c) * ((1.0 / np.cosh(s[i])) ** 2).T)\n",
    "                covar_grad_chain[:, :, i, 2] = a * b * ((1.0 / np.cosh(s[i])) ** 2).T\n",
    "            covar_grad_chain[:, :, 0, 3] = y\n",
    "            return gradients, covar_grad_chain\n",
    "\n",
    "        return gradients\n",
    "\n",
    "    def update_grads(self, Y_untransformed, Kiy):\n",
    "        grad_y = self.fgrad_y(Y_untransformed)\n",
    "        grad_y_psi, grad_psi = self.fgrad_y_psi(Y_untransformed,\n",
    "                                                return_covar_chain=True)\n",
    "        djac_dpsi = ((1.0 / grad_y[:, :, None, None]) * grad_y_psi).sum(axis=0).sum(axis=0)\n",
    "        dquad_dpsi = (Kiy[:, None, None, None] * grad_psi).sum(axis=0).sum(axis=0)\n",
    "\n",
    "        warping_grads = -dquad_dpsi + djac_dpsi\n",
    "\n",
    "        self.psi.gradient[:] = warping_grads[:, :-1]\n",
    "        self.d.gradient[:] = warping_grads[0, -1] \n"
   ]
  },
  {
   "cell_type": "code",
   "execution_count": 26,
   "metadata": {},
   "outputs": [],
   "source": [
    "X = np.random.randn(20, 1)\n",
    "Y = np.sin(X) + np.random.randn(20, 1)*0.05\n",
    "\n",
    "m = WarpedGP(X, Y,warping_function=TanhFunction(1))"
   ]
  },
  {
   "cell_type": "code",
   "execution_count": 27,
   "metadata": {},
   "outputs": [
    {
     "data": {
      "text/html": [
       "<style type=\"text/css\">\n",
       ".pd{\n",
       "    font-family: \"Courier New\", Courier, monospace !important;\n",
       "    width: 100%;\n",
       "    padding: 3px;\n",
       "}\n",
       "</style>\n",
       "\n",
       "<p class=pd>\n",
       "<b>Model</b>: gp<br>\n",
       "<b>Objective</b>: 16.705439152978684<br>\n",
       "<b>Number of Parameters</b>: 7<br>\n",
       "<b>Number of Optimization Parameters</b>: 7<br>\n",
       "<b>Updates</b>: True<br>\n",
       "</p>\n",
       "<style type=\"text/css\">\n",
       ".tg  {font-family:\"Courier New\", Courier, monospace !important;padding:2px 3px;word-break:normal;border-collapse:collapse;border-spacing:0;border-color:#DCDCDC;margin:0px auto;width:100%;}\n",
       ".tg td{font-family:\"Courier New\", Courier, monospace !important;font-weight:bold;color:#444;background-color:#F7FDFA;border-style:solid;border-width:1px;overflow:hidden;word-break:normal;border-color:#DCDCDC;}\n",
       ".tg th{font-family:\"Courier New\", Courier, monospace !important;font-weight:normal;color:#fff;background-color:#26ADE4;border-style:solid;border-width:1px;overflow:hidden;word-break:normal;border-color:#DCDCDC;}\n",
       ".tg .tg-left{font-family:\"Courier New\", Courier, monospace !important;font-weight:normal;text-align:left;}\n",
       ".tg .tg-center{font-family:\"Courier New\", Courier, monospace !important;font-weight:normal;text-align:center;}\n",
       ".tg .tg-right{font-family:\"Courier New\", Courier, monospace !important;font-weight:normal;text-align:right;}\n",
       "</style>\n",
       "<table class=\"tg\"><tr><th><b>  gp.                    </b></th><th><b> value</b></th><th><b>constraints</b></th><th><b>priors</b></th></tr>\n",
       "<tr><td class=tg-left>  rbf.variance           </td><td class=tg-right>   1.0</td><td class=tg-center>    +ve    </td><td class=tg-center>      </td></tr>\n",
       "<tr><td class=tg-left>  rbf.lengthscale        </td><td class=tg-right>   1.0</td><td class=tg-center>    +ve    </td><td class=tg-center>      </td></tr>\n",
       "<tr><td class=tg-left>  Gaussian_noise.variance</td><td class=tg-right>   1.0</td><td class=tg-center>    +ve    </td><td class=tg-center>      </td></tr>\n",
       "<tr><td class=tg-left>  warp_tanh.psi          </td><td class=tg-right>(1, 3)</td><td class=tg-center>   {+ve}   </td><td class=tg-center>      </td></tr>\n",
       "<tr><td class=tg-left>  warp_tanh.d            </td><td class=tg-right>   1.0</td><td class=tg-center>    +ve    </td><td class=tg-center>      </td></tr>\n",
       "</table>"
      ],
      "text/plain": [
       "<__main__.WarpedGP at 0x7fd0c97d7610>"
      ]
     },
     "execution_count": 27,
     "metadata": {},
     "output_type": "execute_result"
    }
   ],
   "source": [
    "m"
   ]
  },
  {
   "cell_type": "code",
   "execution_count": 11,
   "metadata": {},
   "outputs": [],
   "source": [
    "GRAD, S, R, D = m.warping_function.fgrad_y(Y,True)"
   ]
  },
  {
   "cell_type": "code",
   "execution_count": 14,
   "metadata": {},
   "outputs": [
    {
     "name": "stdout",
     "output_type": "stream",
     "text": [
      "(1, 20)\n",
      "(1, 20)\n",
      "(1, 20)\n"
     ]
    }
   ],
   "source": [
    "print(S[1].shape)\n",
    "print(R[1].shape)\n",
    "print(D[1].shape)"
   ]
  },
  {
   "attachments": {},
   "cell_type": "markdown",
   "metadata": {},
   "source": [
    "# LogC"
   ]
  },
  {
   "cell_type": "code",
   "execution_count": 64,
   "metadata": {},
   "outputs": [],
   "source": [
    "class LogC(WarpingFunction):\n",
    "    \"\"\"\n",
    "    This is the function proposed in Snelson et al.:\n",
    "    A sum of tanh functions with linear trends outside\n",
    "    the range. Notice the term 'd', which scales the\n",
    "    linear trend.\n",
    "    \"\"\"\n",
    "    def __init__(self, lower,upper,n_terms =1, initial_y=None):\n",
    "        \"\"\"\n",
    "        n_terms specifies the number of tanh terms to be used\n",
    "        \"\"\"\n",
    "        self.n_terms = n_terms\n",
    "        self.num_parameters = 1\n",
    "        self.psi = np.ones((self.n_terms, 1))\n",
    "        super(LogC, self).__init__(name='logC')\n",
    "        self.psi = Param('psi', self.psi)  #Param will register psi as a parameter\n",
    "        self.psi[:, :].constrain_bounded(lower,upper) #put constraint in the psi space\n",
    "        self.link_parameter(self.psi)\n",
    "        self.initial_y = initial_y\n",
    "\n",
    "    def f(self, y):  # f is the warping function\n",
    "\n",
    "        psi = self.psi\n",
    "        \n",
    "        z_temp = np.log(y+psi)\n",
    "        mean_temp = np.mean(z_temp)\n",
    "        \n",
    "        z = z_temp-mean_temp\n",
    "\n",
    "        return z\n",
    "\n",
    "    def fgrad_y(self, y, return_precalc=False):\n",
    "        \"\"\"\n",
    "        gradient of f w.r.t to y ([N x 1])\n",
    "\n",
    "        :returns: Nx1 vector of derivatives, unless return_precalc is true, \n",
    "        then it also returns the precomputed stuff\n",
    "        \"\"\"\n",
    "\n",
    "        psi = self.psi\n",
    "        \n",
    "        N = y.shape[0]\n",
    "\n",
    "        GRAD = (N-1)/N *1/(y+psi)\n",
    "\n",
    "        return GRAD\n",
    "\n",
    "    def fgrad_y_psi(self, y, return_covar_chain=False):\n",
    "        \"\"\"\n",
    "        gradient of f w.r.t to y and psi\n",
    "\n",
    "        :returns: NxIx4 tensor of partial derivatives\n",
    "        \"\"\"\n",
    "        psi = self.psi\n",
    "        \n",
    "        N = y.shape[0]\n",
    "\n",
    "        gradients = np.zeros((y.shape[0], y.shape[1], len(psi), 1))\n",
    "        for i in range(len(psi)):\n",
    "    \n",
    "            gradients[:, :, i, 0] = (N-1)/N * (-1/(y+psi)**2)  #this should be of the shape Nx1\n",
    "            \n",
    "\n",
    "        if return_covar_chain:\n",
    "            covar_grad_chain = np.zeros((y.shape[0], y.shape[1], len(psi), 1))\n",
    "            \n",
    "            \n",
    "            for i in range(len(psi)):\n",
    "                mean_temp = np.mean(1/(y+psi))\n",
    "                covar_grad_chain[:, :, i, 0] = 1/(y+psi)-mean_temp\n",
    "                \n",
    "            return gradients, covar_grad_chain\n",
    "\n",
    "        return gradients\n",
    "\n",
    "    def update_grads(self, Y_untransformed, Kiy):\n",
    "        grad_y = self.fgrad_y(Y_untransformed)\n",
    "        grad_y_psi, grad_psi = self.fgrad_y_psi(Y_untransformed,\n",
    "                                                return_covar_chain=True)\n",
    "        djac_dpsi = ((1.0 / grad_y[:, :, None, None]) * grad_y_psi).sum(axis=0).sum(axis=0)\n",
    "        dquad_dpsi = (Kiy[:, None, None, None] * grad_psi).sum(axis=0).sum(axis=0)\n",
    "\n",
    "        warping_grads = -dquad_dpsi + djac_dpsi\n",
    "\n",
    "        self.psi.gradient[:] = warping_grads[:, :]"
   ]
  },
  {
   "cell_type": "code",
   "execution_count": 120,
   "metadata": {},
   "outputs": [
    {
     "name": "stderr",
     "output_type": "stream",
     "text": [
      "reconstraining parameters GP_regression.rbf.lengthscale\n",
      "reconstraining parameters GP_regression.rbf.variance\n"
     ]
    },
    {
     "name": "stdout",
     "output_type": "stream",
     "text": [
      "\n",
      "Name : GP regression\n",
      "Objective : -85.5482574829223\n",
      "Number of Parameters : 3\n",
      "Number of Optimization Parameters : 2\n",
      "Updates : True\n",
      "Parameters:\n",
      "  \u001b[1mGP_regression.         \u001b[0;0m  |               value  |  constraints  |  priors\n",
      "  \u001b[1mrbf.variance           \u001b[0;0m  |  1.7471825003913093  |  0.0001,10.0  |        \n",
      "  \u001b[1mrbf.lengthscale        \u001b[0;0m  |   2.305542004280916  |   0.01,10.0   |        \n",
      "  \u001b[1mGaussian_noise.variance\u001b[0;0m  |               1e-06  |   +ve fixed   |        \n"
     ]
    },
    {
     "data": {
      "text/plain": [
       "{'dataplot': [<matplotlib.collections.PathCollection at 0x7fd0c862fee0>],\n",
       " 'gpmean': [[<matplotlib.lines.Line2D at 0x7fd0c863c3d0>]],\n",
       " 'gpconfidence': [<matplotlib.collections.PolyCollection at 0x7fd0c863c5e0>]}"
      ]
     },
     "execution_count": 120,
     "metadata": {},
     "output_type": "execute_result"
    },
    {
     "data": {
      "image/png": "[encoded data removed]",
      "text/plain": [
       "<Figure size 640x480 with 1 Axes>"
      ]
     },
     "metadata": {},
     "output_type": "display_data"
    }
   ],
   "source": [
    "# normal GP\n",
    "import GPy\n",
    "X = np.linspace(0,3,20).reshape(-1,1)\n",
    "Y = np.sin(X) #+ np.random.randn(20, 1)*0.05\n",
    "\n",
    "\n",
    "kernel = GPy.kern.RBF(input_dim=1,lengthscale= 1,variance=1)  #np.sqrt(res[0])\n",
    "m = GPy.models.GPRegression(X.reshape(-1,1), Y.reshape(-1,1),kernel)\n",
    "m.rbf.lengthscale.constrain_bounded(0.01,10)\n",
    "m.rbf.variance.constrain_bounded(0.01**2,10)\n",
    "m.Gaussian_noise.fix(1e-6)\n",
    "m.optimize()\n",
    "print(m)\n",
    "m.plot()"
   ]
  },
  {
   "cell_type": "code",
   "execution_count": 109,
   "metadata": {},
   "outputs": [
    {
     "data": {
      "text/plain": [
       "array([0])"
      ]
     },
     "execution_count": 109,
     "metadata": {},
     "output_type": "execute_result"
    },
    {
     "data": {
      "image/png": "[encoded data removed]",
      "text/plain": [
       "<Figure size 640x480 with 1 Axes>"
      ]
     },
     "metadata": {},
     "output_type": "display_data"
    }
   ],
   "source": [
    "# logGP\n",
    "X = np.linspace(0,3,20).reshape(-1,1)\n",
    "Y = np.sin(X) + np.random.randn(20, 1)*0.05\n",
    "\n",
    "lower = -np.min(Y)+10**(-6)\n",
    "upper = lower+1000\n",
    "plt.scatter(X,Y)\n",
    "\n",
    "m = WarpedGP(X, Y,warping_function=LogC(lower=lower,upper=upper,n_terms =1))\n",
    "m.Gaussian_noise.fix(1e-6)"
   ]
  },
  {
   "cell_type": "code",
   "execution_count": null,
   "metadata": {},
   "outputs": [],
   "source": []
  },
  {
   "cell_type": "code",
   "execution_count": 110,
   "metadata": {},
   "outputs": [
    {
     "data": {
      "text/plain": [
       "<paramz.optimization.optimization.opt_lbfgsb at 0x7fd0c8791ca0>"
      ]
     },
     "execution_count": 110,
     "metadata": {},
     "output_type": "execute_result"
    }
   ],
   "source": [
    "m.optimize()"
   ]
  },
  {
   "cell_type": "code",
   "execution_count": 111,
   "metadata": {},
   "outputs": [
    {
     "data": {
      "text/html": [
       "<style type=\"text/css\">\n",
       ".pd{\n",
       "    font-family: \"Courier New\", Courier, monospace !important;\n",
       "    width: 100%;\n",
       "    padding: 3px;\n",
       "}\n",
       "</style>\n",
       "\n",
       "<p class=pd>\n",
       "<b>Model</b>: gp<br>\n",
       "<b>Objective</b>: -18.935866396395454<br>\n",
       "<b>Number of Parameters</b>: 4<br>\n",
       "<b>Number of Optimization Parameters</b>: 3<br>\n",
       "<b>Updates</b>: True<br>\n",
       "</p>\n",
       "<style type=\"text/css\">\n",
       ".tg  {font-family:\"Courier New\", Courier, monospace !important;padding:2px 3px;word-break:normal;border-collapse:collapse;border-spacing:0;border-color:#DCDCDC;margin:0px auto;width:100%;}\n",
       ".tg td{font-family:\"Courier New\", Courier, monospace !important;font-weight:bold;color:#444;background-color:#F7FDFA;border-style:solid;border-width:1px;overflow:hidden;word-break:normal;border-color:#DCDCDC;}\n",
       ".tg th{font-family:\"Courier New\", Courier, monospace !important;font-weight:normal;color:#fff;background-color:#26ADE4;border-style:solid;border-width:1px;overflow:hidden;word-break:normal;border-color:#DCDCDC;}\n",
       ".tg .tg-left{font-family:\"Courier New\", Courier, monospace !important;font-weight:normal;text-align:left;}\n",
       ".tg .tg-center{font-family:\"Courier New\", Courier, monospace !important;font-weight:normal;text-align:center;}\n",
       ".tg .tg-right{font-family:\"Courier New\", Courier, monospace !important;font-weight:normal;text-align:right;}\n",
       "</style>\n",
       "<table class=\"tg\"><tr><th><b>  gp.                    </b></th><th><b>                value</b></th><th><b>              constraints               </b></th><th><b>priors</b></th></tr>\n",
       "<tr><td class=tg-left>  rbf.variance           </td><td class=tg-right>0.0002448256228629417</td><td class=tg-center>                  +ve                   </td><td class=tg-center>      </td></tr>\n",
       "<tr><td class=tg-left>  rbf.lengthscale        </td><td class=tg-right>   1.4082206951356744</td><td class=tg-center>                  +ve                   </td><td class=tg-center>      </td></tr>\n",
       "<tr><td class=tg-left>  Gaussian_noise.variance</td><td class=tg-right>                1e-06</td><td class=tg-center>               +ve fixed                </td><td class=tg-center>      </td></tr>\n",
       "<tr><td class=tg-left>  logC.psi               </td><td class=tg-right>        [47.55432116]</td><td class=tg-center>0.0013805649159010045,1000.0013805649158</td><td class=tg-center>      </td></tr>\n",
       "</table>"
      ],
      "text/plain": [
       "<__main__.WarpedGP at 0x7fd0c8778370>"
      ]
     },
     "execution_count": 111,
     "metadata": {},
     "output_type": "execute_result"
    }
   ],
   "source": [
    "m"
   ]
  },
  {
   "cell_type": "code",
   "execution_count": 112,
   "metadata": {},
   "outputs": [
    {
     "name": "stdout",
     "output_type": "stream",
     "text": [
      "lengthscale:  1.4082206951356744\n",
      "variance:  0.0002448256228629417\n",
      "C:  47.554321159504106\n"
     ]
    }
   ],
   "source": [
    "print('lengthscale: ',m.rbf.lengthscale.item()\t)\n",
    "print('variance: ',m.rbf.variance.item()\t)\n",
    "print('C: ',m.logC.psi.item()\t)"
   ]
  },
  {
   "attachments": {},
   "cell_type": "markdown",
   "metadata": {},
   "source": [
    "# Test accuracy"
   ]
  },
  {
   "cell_type": "code",
   "execution_count": 190,
   "metadata": {},
   "outputs": [
    {
     "data": {
      "text/plain": [
       "<matplotlib.collections.PathCollection at 0x7fd0c1ce7e20>"
      ]
     },
     "execution_count": 190,
     "metadata": {},
     "output_type": "execute_result"
    },
    {
     "data": {
      "image/png": "[encoded data removed]",
      "text/plain": [
       "<Figure size 640x480 with 1 Axes>"
      ]
     },
     "metadata": {},
     "output_type": "display_data"
    }
   ],
   "source": [
    "np.random.seed(0)\n",
    "\n",
    "\n",
    "X_init = np.array([0.0]).reshape(-1,1)\n",
    "Y_init = np.array([0.0]).reshape(-1,1)\n",
    "\n",
    "kernel = GPy.kern.RBF(input_dim=1,lengthscale= 0.2,variance=0.5)  #np.sqrt(res[0])\n",
    "model_test = GPy.models.GPRegression(X_init, Y_init,kernel)\n",
    "\n",
    "X_test = np.linspace(0,1,15).reshape(-1,1)\n",
    "Y_test = np.exp(0.5+model_test.posterior_samples_f(X_test,size=1).reshape(-1,1))-1\n",
    "\n",
    "plt.scatter(X_test,Y_test)"
   ]
  },
  {
   "cell_type": "code",
   "execution_count": 200,
   "metadata": {},
   "outputs": [
    {
     "name": "stderr",
     "output_type": "stream",
     "text": [
      "reconstraining parameters gp.rbf.lengthscale\n",
      "reconstraining parameters gp.rbf.variance\n",
      " /tmp/ipykernel_85179/1747888806.py:25: RuntimeWarning:invalid value encountered in log\n",
      " /tmp/ipykernel_85179/3416887044.py:54: RuntimeWarning:invalid value encountered in log\n"
     ]
    }
   ],
   "source": [
    "lower = -np.min(Y)+10**(-6)\n",
    "upper = lower+5\n",
    "\n",
    "m = WarpedGP(X_test, Y_test,warping_function=LogC(lower=lower,upper=upper,n_terms =1))\n",
    "m.rbf.lengthscale.constrain_bounded(0.01,10)\n",
    "m.rbf.variance.constrain_bounded(0.01**2,10)\n",
    "m.Gaussian_noise.fix(1e-6)\n",
    "\n",
    "for i in range(3**3):\n",
    "    try:\n",
    "        np.random.seed(i)\n",
    "        m.optimize()\n",
    "    except:\n",
    "        print('oh')\n",
    "        pass"
   ]
  },
  {
   "cell_type": "code",
   "execution_count": 199,
   "metadata": {},
   "outputs": [
    {
     "data": {
      "text/html": [
       "<style type=\"text/css\">\n",
       ".pd{\n",
       "    font-family: \"Courier New\", Courier, monospace !important;\n",
       "    width: 100%;\n",
       "    padding: 3px;\n",
       "}\n",
       "</style>\n",
       "\n",
       "<p class=pd>\n",
       "<b>Model</b>: gp<br>\n",
       "<b>Objective</b>: -29.6732003536498<br>\n",
       "<b>Number of Parameters</b>: 4<br>\n",
       "<b>Number of Optimization Parameters</b>: 3<br>\n",
       "<b>Updates</b>: True<br>\n",
       "</p>\n",
       "<style type=\"text/css\">\n",
       ".tg  {font-family:\"Courier New\", Courier, monospace !important;padding:2px 3px;word-break:normal;border-collapse:collapse;border-spacing:0;border-color:#DCDCDC;margin:0px auto;width:100%;}\n",
       ".tg td{font-family:\"Courier New\", Courier, monospace !important;font-weight:bold;color:#444;background-color:#F7FDFA;border-style:solid;border-width:1px;overflow:hidden;word-break:normal;border-color:#DCDCDC;}\n",
       ".tg th{font-family:\"Courier New\", Courier, monospace !important;font-weight:normal;color:#fff;background-color:#26ADE4;border-style:solid;border-width:1px;overflow:hidden;word-break:normal;border-color:#DCDCDC;}\n",
       ".tg .tg-left{font-family:\"Courier New\", Courier, monospace !important;font-weight:normal;text-align:left;}\n",
       ".tg .tg-center{font-family:\"Courier New\", Courier, monospace !important;font-weight:normal;text-align:center;}\n",
       ".tg .tg-right{font-family:\"Courier New\", Courier, monospace !important;font-weight:normal;text-align:right;}\n",
       "</style>\n",
       "<table class=\"tg\"><tr><th><b>  gp.                    </b></th><th><b>             value</b></th><th><b> constraints  </b></th><th><b>priors</b></th></tr>\n",
       "<tr><td class=tg-left>  rbf.variance           </td><td class=tg-right>1.4467692215389523</td><td class=tg-center> 0.0001,10.0  </td><td class=tg-center>      </td></tr>\n",
       "<tr><td class=tg-left>  rbf.lengthscale        </td><td class=tg-right>0.2510515515917751</td><td class=tg-center>  0.01,10.0   </td><td class=tg-center>      </td></tr>\n",
       "<tr><td class=tg-left>  Gaussian_noise.variance</td><td class=tg-right>             1e-06</td><td class=tg-center>  +ve fixed   </td><td class=tg-center>      </td></tr>\n",
       "<tr><td class=tg-left>  logC.psi               </td><td class=tg-right>      [0.98010803]</td><td class=tg-center>1e-06,5.000001</td><td class=tg-center>      </td></tr>\n",
       "</table>"
      ],
      "text/plain": [
       "<__main__.WarpedGP at 0x7fd0c1dfb400>"
      ]
     },
     "execution_count": 199,
     "metadata": {},
     "output_type": "execute_result"
    }
   ],
   "source": [
    "m"
   ]
  },
  {
   "attachments": {},
   "cell_type": "markdown",
   "metadata": {},
   "source": [
    "use my own package"
   ]
  },
  {
   "cell_type": "code",
   "execution_count": 171,
   "metadata": {},
   "outputs": [
    {
     "name": "stdout",
     "output_type": "stream",
     "text": [
      "0.250565282981674\n",
      "1.441218463225212\n",
      "0.9816499969245152\n"
     ]
    }
   ],
   "source": [
    "from known_boundary.GP import optimise,optimise_warp,optimise_warp_no_boundary\n",
    "\n",
    "res = optimise_warp_no_boundary(X_test, Y_test,+10)\n",
    "lengthscale = np.sqrt(res[0])\n",
    "variance = res[1]\n",
    "c = res[2]\n",
    "\n",
    "print(lengthscale)\n",
    "print(variance)\n",
    "print(c)\n"
   ]
  },
  {
   "cell_type": "code",
   "execution_count": null,
   "metadata": {},
   "outputs": [],
   "source": []
  },
  {
   "cell_type": "code",
   "execution_count": 131,
   "metadata": {},
   "outputs": [
    {
     "data": {
      "text/plain": [
       "(8, 1)"
      ]
     },
     "execution_count": 131,
     "metadata": {},
     "output_type": "execute_result"
    }
   ],
   "source": [
    "X_test.shape"
   ]
  },
  {
   "cell_type": "code",
   "execution_count": 132,
   "metadata": {},
   "outputs": [
    {
     "data": {
      "text/plain": [
       "(8, 1)"
      ]
     },
     "execution_count": 132,
     "metadata": {},
     "output_type": "execute_result"
    }
   ],
   "source": [
    "Y_test.shape"
   ]
  },
  {
   "cell_type": "code",
   "execution_count": null,
   "metadata": {},
   "outputs": [],
   "source": []
  },
  {
   "cell_type": "code",
   "execution_count": null,
   "metadata": {},
   "outputs": [],
   "source": []
  },
  {
   "cell_type": "code",
   "execution_count": null,
   "metadata": {},
   "outputs": [],
   "source": [
    "\n",
    "class LogFunction(WarpingFunction):\n",
    "    \"\"\"\n",
    "    Easy wrapper for applying a fixed log warping function to\n",
    "    positive-only values.\n",
    "    The closed_inverse flag should only be set to False for\n",
    "    debugging and testing purposes.\n",
    "    \"\"\"\n",
    "    def __init__(self, closed_inverse=True):\n",
    "        self.num_parameters = 0\n",
    "        super(LogFunction, self).__init__(name='log')\n",
    "        if closed_inverse:\n",
    "            self.f_inv = self._f_inv\n",
    "\n",
    "    def f(self, y):\n",
    "        return np.log(y)\n",
    "\n",
    "    def fgrad_y(self, y):\n",
    "        return 1. / y\n",
    "\n",
    "    def update_grads(self, Y_untransformed, Kiy):\n",
    "        pass\n",
    "\n",
    "    def fgrad_y_psi(self, y, return_covar_chain=False):\n",
    "        if return_covar_chain:\n",
    "            return 0, 0\n",
    "        return 0\n",
    "\n",
    "    def _f_inv(self, z, y=None):\n",
    "        return np.exp(z)\n",
    "\n",
    "\n",
    "class IdentityFunction(WarpingFunction):\n",
    "    \"\"\"\n",
    "    Identity warping function. This is for testing and sanity check purposes\n",
    "    and should not be used in practice.\n",
    "    The closed_inverse flag should only be set to False for\n",
    "    debugging and testing purposes.\n",
    "    \"\"\"\n",
    "    def __init__(self, closed_inverse=True):\n",
    "        self.num_parameters = 0\n",
    "        super(IdentityFunction, self).__init__(name='identity')\n",
    "        if closed_inverse:\n",
    "            self.f_inv = self._f_inv\n",
    "        \n",
    "    def f(self, y):\n",
    "        return y\n",
    "\n",
    "    def fgrad_y(self, y):\n",
    "        return np.ones(y.shape)\n",
    "\n",
    "    def update_grads(self, Y_untransformed, Kiy):\n",
    "        pass\n",
    "\n",
    "    def fgrad_y_psi(self, y, return_covar_chain=False):\n",
    "        if return_covar_chain:\n",
    "            return 0, 0\n",
    "        return 0\n",
    "        \n",
    "    def _f_inv(self, z, y=None):\n",
    "        return z"
   ]
  }
 ],
 "metadata": {
  "kernelspec": {
   "display_name": "known_boundary",
   "language": "python",
   "name": "python3"
  },
  "language_info": {
   "codemirror_mode": {
    "name": "ipython",
    "version": 3
   },
   "file_extension": ".py",
   "mimetype": "text/x-python",
   "name": "python",
   "nbconvert_exporter": "python",
   "pygments_lexer": "ipython3",
   "version": "3.9.16"
  },
  "orig_nbformat": 4
 },
 "nbformat": 4,
 "nbformat_minor": 2
}
